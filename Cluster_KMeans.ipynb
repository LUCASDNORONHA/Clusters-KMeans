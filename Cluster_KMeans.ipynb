{
  "nbformat": 4,
  "nbformat_minor": 0,
  "metadata": {
    "colab": {
      "provenance": [],
      "authorship_tag": "ABX9TyMcCw1la97DdWYVG7Uc/p9O",
      "include_colab_link": true
    },
    "kernelspec": {
      "name": "python3",
      "display_name": "Python 3"
    },
    "language_info": {
      "name": "python"
    }
  },
  "cells": [
    {
      "cell_type": "markdown",
      "metadata": {
        "id": "view-in-github",
        "colab_type": "text"
      },
      "source": [
        "<a href=\"https://colab.research.google.com/github/LUCASDNORONHA/Clusters-KMeans/blob/main/Cluster_KMeans.ipynb\" target=\"_parent\"><img src=\"https://colab.research.google.com/assets/colab-badge.svg\" alt=\"Open In Colab\"/></a>"
      ]
    },
    {
      "cell_type": "markdown",
      "source": [
        "# Agrupamento"
      ],
      "metadata": {
        "id": "_t5ECSsN0y3g"
      }
    },
    {
      "cell_type": "markdown",
      "source": [
        "# K-means"
      ],
      "metadata": {
        "id": "Ik1UTbcD6ftY"
      }
    },
    {
      "cell_type": "code",
      "source": [
        "!pip install plotly --upgrade"
      ],
      "metadata": {
        "colab": {
          "base_uri": "https://localhost:8080/",
          "height": 428
        },
        "id": "rOl2LZF86kJo",
        "outputId": "ddff5adc-de40-4dd9-c639-6f1ecf4a8b71"
      },
      "execution_count": 56,
      "outputs": [
        {
          "output_type": "stream",
          "name": "stdout",
          "text": [
            "Requirement already satisfied: plotly in /usr/local/lib/python3.10/dist-packages (5.15.0)\n",
            "Collecting plotly\n",
            "  Downloading plotly-5.18.0-py3-none-any.whl (15.6 MB)\n",
            "\u001b[2K     \u001b[90m━━━━━━━━━━━━━━━━━━━━━━━━━━━━━━━━━━━━━━━━\u001b[0m \u001b[32m15.6/15.6 MB\u001b[0m \u001b[31m82.1 MB/s\u001b[0m eta \u001b[36m0:00:00\u001b[0m\n",
            "\u001b[?25hRequirement already satisfied: tenacity>=6.2.0 in /usr/local/lib/python3.10/dist-packages (from plotly) (8.2.3)\n",
            "Requirement already satisfied: packaging in /usr/local/lib/python3.10/dist-packages (from plotly) (23.2)\n",
            "Installing collected packages: plotly\n",
            "  Attempting uninstall: plotly\n",
            "    Found existing installation: plotly 5.15.0\n",
            "    Uninstalling plotly-5.15.0:\n",
            "      Successfully uninstalled plotly-5.15.0\n",
            "\u001b[31mERROR: pip's dependency resolver does not currently take into account all the packages that are installed. This behaviour is the source of the following dependency conflicts.\n",
            "lida 0.0.10 requires fastapi, which is not installed.\n",
            "lida 0.0.10 requires kaleido, which is not installed.\n",
            "lida 0.0.10 requires python-multipart, which is not installed.\n",
            "lida 0.0.10 requires uvicorn, which is not installed.\u001b[0m\u001b[31m\n",
            "\u001b[0mSuccessfully installed plotly-5.18.0\n"
          ]
        },
        {
          "output_type": "display_data",
          "data": {
            "application/vnd.colab-display-data+json": {
              "pip_warning": {
                "packages": [
                  "_plotly_utils",
                  "plotly"
                ]
              }
            }
          },
          "metadata": {}
        }
      ]
    },
    {
      "cell_type": "code",
      "execution_count": 57,
      "metadata": {
        "id": "P_HN5LTQ0gGa"
      },
      "outputs": [],
      "source": [
        "import numpy as np\n",
        "import pandas as pd\n",
        "import plotly.graph_objects as go\n",
        "import plotly.express as px\n",
        "from sklearn.preprocessing import StandardScaler"
      ]
    },
    {
      "cell_type": "markdown",
      "source": [
        "## Base Idade e Salário"
      ],
      "metadata": {
        "id": "3_3jWLwZ62rQ"
      }
    },
    {
      "cell_type": "code",
      "source": [
        "from sklearn.cluster import KMeans\n",
        "\n",
        "X = [20, 27, 21, 37, 46, 55, 47, 52, 32, 39, 41, 39, 48, 48]\n",
        "y = [1000, 1200, 2900, 1850, 900, 2000, 2100, 3000, 5900, 4100, 5100, 7000, 5000, 6500]"
      ],
      "metadata": {
        "id": "TOlU0uic1cNO"
      },
      "execution_count": 58,
      "outputs": []
    },
    {
      "cell_type": "code",
      "source": [
        "grafico = px.scatter(x=X, y=y)\n",
        "grafico.update_layout(title_text='Idade x Salário')\n",
        "grafico.update_xaxes(title_text='Idade')\n",
        "grafico.update_yaxes(title_text='Salário')\n",
        "grafico.update_traces(hovertemplate='Valor: %{y}')\n",
        "\n",
        "grafico.show()"
      ],
      "metadata": {
        "colab": {
          "base_uri": "https://localhost:8080/",
          "height": 542
        },
        "id": "i9hzE4Rm6Hmp",
        "outputId": "120ead5f-3575-45e8-e68a-cb772b62577e"
      },
      "execution_count": 59,
      "outputs": [
        {
          "output_type": "display_data",
          "data": {
            "text/html": [
              "<html>\n",
              "<head><meta charset=\"utf-8\" /></head>\n",
              "<body>\n",
              "    <div>            <script src=\"https://cdnjs.cloudflare.com/ajax/libs/mathjax/2.7.5/MathJax.js?config=TeX-AMS-MML_SVG\"></script><script type=\"text/javascript\">if (window.MathJax && window.MathJax.Hub && window.MathJax.Hub.Config) {window.MathJax.Hub.Config({SVG: {font: \"STIX-Web\"}});}</script>                <script type=\"text/javascript\">window.PlotlyConfig = {MathJaxConfig: 'local'};</script>\n",
              "        <script charset=\"utf-8\" src=\"https://cdn.plot.ly/plotly-2.24.1.min.js\"></script>                <div id=\"714d9b25-2b95-4488-9af0-44bce82b579b\" class=\"plotly-graph-div\" style=\"height:525px; width:100%;\"></div>            <script type=\"text/javascript\">                                    window.PLOTLYENV=window.PLOTLYENV || {};                                    if (document.getElementById(\"714d9b25-2b95-4488-9af0-44bce82b579b\")) {                    Plotly.newPlot(                        \"714d9b25-2b95-4488-9af0-44bce82b579b\",                        [{\"hovertemplate\":\"Valor: %{y}\",\"legendgroup\":\"\",\"marker\":{\"color\":\"#636efa\",\"symbol\":\"circle\"},\"mode\":\"markers\",\"name\":\"\",\"orientation\":\"v\",\"showlegend\":false,\"x\":[20,27,21,37,46,55,47,52,32,39,41,39,48,48],\"xaxis\":\"x\",\"y\":[1000,1200,2900,1850,900,2000,2100,3000,5900,4100,5100,7000,5000,6500],\"yaxis\":\"y\",\"type\":\"scatter\"}],                        {\"template\":{\"data\":{\"histogram2dcontour\":[{\"type\":\"histogram2dcontour\",\"colorbar\":{\"outlinewidth\":0,\"ticks\":\"\"},\"colorscale\":[[0.0,\"#0d0887\"],[0.1111111111111111,\"#46039f\"],[0.2222222222222222,\"#7201a8\"],[0.3333333333333333,\"#9c179e\"],[0.4444444444444444,\"#bd3786\"],[0.5555555555555556,\"#d8576b\"],[0.6666666666666666,\"#ed7953\"],[0.7777777777777778,\"#fb9f3a\"],[0.8888888888888888,\"#fdca26\"],[1.0,\"#f0f921\"]]}],\"choropleth\":[{\"type\":\"choropleth\",\"colorbar\":{\"outlinewidth\":0,\"ticks\":\"\"}}],\"histogram2d\":[{\"type\":\"histogram2d\",\"colorbar\":{\"outlinewidth\":0,\"ticks\":\"\"},\"colorscale\":[[0.0,\"#0d0887\"],[0.1111111111111111,\"#46039f\"],[0.2222222222222222,\"#7201a8\"],[0.3333333333333333,\"#9c179e\"],[0.4444444444444444,\"#bd3786\"],[0.5555555555555556,\"#d8576b\"],[0.6666666666666666,\"#ed7953\"],[0.7777777777777778,\"#fb9f3a\"],[0.8888888888888888,\"#fdca26\"],[1.0,\"#f0f921\"]]}],\"heatmap\":[{\"type\":\"heatmap\",\"colorbar\":{\"outlinewidth\":0,\"ticks\":\"\"},\"colorscale\":[[0.0,\"#0d0887\"],[0.1111111111111111,\"#46039f\"],[0.2222222222222222,\"#7201a8\"],[0.3333333333333333,\"#9c179e\"],[0.4444444444444444,\"#bd3786\"],[0.5555555555555556,\"#d8576b\"],[0.6666666666666666,\"#ed7953\"],[0.7777777777777778,\"#fb9f3a\"],[0.8888888888888888,\"#fdca26\"],[1.0,\"#f0f921\"]]}],\"heatmapgl\":[{\"type\":\"heatmapgl\",\"colorbar\":{\"outlinewidth\":0,\"ticks\":\"\"},\"colorscale\":[[0.0,\"#0d0887\"],[0.1111111111111111,\"#46039f\"],[0.2222222222222222,\"#7201a8\"],[0.3333333333333333,\"#9c179e\"],[0.4444444444444444,\"#bd3786\"],[0.5555555555555556,\"#d8576b\"],[0.6666666666666666,\"#ed7953\"],[0.7777777777777778,\"#fb9f3a\"],[0.8888888888888888,\"#fdca26\"],[1.0,\"#f0f921\"]]}],\"contourcarpet\":[{\"type\":\"contourcarpet\",\"colorbar\":{\"outlinewidth\":0,\"ticks\":\"\"}}],\"contour\":[{\"type\":\"contour\",\"colorbar\":{\"outlinewidth\":0,\"ticks\":\"\"},\"colorscale\":[[0.0,\"#0d0887\"],[0.1111111111111111,\"#46039f\"],[0.2222222222222222,\"#7201a8\"],[0.3333333333333333,\"#9c179e\"],[0.4444444444444444,\"#bd3786\"],[0.5555555555555556,\"#d8576b\"],[0.6666666666666666,\"#ed7953\"],[0.7777777777777778,\"#fb9f3a\"],[0.8888888888888888,\"#fdca26\"],[1.0,\"#f0f921\"]]}],\"surface\":[{\"type\":\"surface\",\"colorbar\":{\"outlinewidth\":0,\"ticks\":\"\"},\"colorscale\":[[0.0,\"#0d0887\"],[0.1111111111111111,\"#46039f\"],[0.2222222222222222,\"#7201a8\"],[0.3333333333333333,\"#9c179e\"],[0.4444444444444444,\"#bd3786\"],[0.5555555555555556,\"#d8576b\"],[0.6666666666666666,\"#ed7953\"],[0.7777777777777778,\"#fb9f3a\"],[0.8888888888888888,\"#fdca26\"],[1.0,\"#f0f921\"]]}],\"mesh3d\":[{\"type\":\"mesh3d\",\"colorbar\":{\"outlinewidth\":0,\"ticks\":\"\"}}],\"scatter\":[{\"fillpattern\":{\"fillmode\":\"overlay\",\"size\":10,\"solidity\":0.2},\"type\":\"scatter\"}],\"parcoords\":[{\"type\":\"parcoords\",\"line\":{\"colorbar\":{\"outlinewidth\":0,\"ticks\":\"\"}}}],\"scatterpolargl\":[{\"type\":\"scatterpolargl\",\"marker\":{\"colorbar\":{\"outlinewidth\":0,\"ticks\":\"\"}}}],\"bar\":[{\"error_x\":{\"color\":\"#2a3f5f\"},\"error_y\":{\"color\":\"#2a3f5f\"},\"marker\":{\"line\":{\"color\":\"#E5ECF6\",\"width\":0.5},\"pattern\":{\"fillmode\":\"overlay\",\"size\":10,\"solidity\":0.2}},\"type\":\"bar\"}],\"scattergeo\":[{\"type\":\"scattergeo\",\"marker\":{\"colorbar\":{\"outlinewidth\":0,\"ticks\":\"\"}}}],\"scatterpolar\":[{\"type\":\"scatterpolar\",\"marker\":{\"colorbar\":{\"outlinewidth\":0,\"ticks\":\"\"}}}],\"histogram\":[{\"marker\":{\"pattern\":{\"fillmode\":\"overlay\",\"size\":10,\"solidity\":0.2}},\"type\":\"histogram\"}],\"scattergl\":[{\"type\":\"scattergl\",\"marker\":{\"colorbar\":{\"outlinewidth\":0,\"ticks\":\"\"}}}],\"scatter3d\":[{\"type\":\"scatter3d\",\"line\":{\"colorbar\":{\"outlinewidth\":0,\"ticks\":\"\"}},\"marker\":{\"colorbar\":{\"outlinewidth\":0,\"ticks\":\"\"}}}],\"scattermapbox\":[{\"type\":\"scattermapbox\",\"marker\":{\"colorbar\":{\"outlinewidth\":0,\"ticks\":\"\"}}}],\"scatterternary\":[{\"type\":\"scatterternary\",\"marker\":{\"colorbar\":{\"outlinewidth\":0,\"ticks\":\"\"}}}],\"scattercarpet\":[{\"type\":\"scattercarpet\",\"marker\":{\"colorbar\":{\"outlinewidth\":0,\"ticks\":\"\"}}}],\"carpet\":[{\"aaxis\":{\"endlinecolor\":\"#2a3f5f\",\"gridcolor\":\"white\",\"linecolor\":\"white\",\"minorgridcolor\":\"white\",\"startlinecolor\":\"#2a3f5f\"},\"baxis\":{\"endlinecolor\":\"#2a3f5f\",\"gridcolor\":\"white\",\"linecolor\":\"white\",\"minorgridcolor\":\"white\",\"startlinecolor\":\"#2a3f5f\"},\"type\":\"carpet\"}],\"table\":[{\"cells\":{\"fill\":{\"color\":\"#EBF0F8\"},\"line\":{\"color\":\"white\"}},\"header\":{\"fill\":{\"color\":\"#C8D4E3\"},\"line\":{\"color\":\"white\"}},\"type\":\"table\"}],\"barpolar\":[{\"marker\":{\"line\":{\"color\":\"#E5ECF6\",\"width\":0.5},\"pattern\":{\"fillmode\":\"overlay\",\"size\":10,\"solidity\":0.2}},\"type\":\"barpolar\"}],\"pie\":[{\"automargin\":true,\"type\":\"pie\"}]},\"layout\":{\"autotypenumbers\":\"strict\",\"colorway\":[\"#636efa\",\"#EF553B\",\"#00cc96\",\"#ab63fa\",\"#FFA15A\",\"#19d3f3\",\"#FF6692\",\"#B6E880\",\"#FF97FF\",\"#FECB52\"],\"font\":{\"color\":\"#2a3f5f\"},\"hovermode\":\"closest\",\"hoverlabel\":{\"align\":\"left\"},\"paper_bgcolor\":\"white\",\"plot_bgcolor\":\"#E5ECF6\",\"polar\":{\"bgcolor\":\"#E5ECF6\",\"angularaxis\":{\"gridcolor\":\"white\",\"linecolor\":\"white\",\"ticks\":\"\"},\"radialaxis\":{\"gridcolor\":\"white\",\"linecolor\":\"white\",\"ticks\":\"\"}},\"ternary\":{\"bgcolor\":\"#E5ECF6\",\"aaxis\":{\"gridcolor\":\"white\",\"linecolor\":\"white\",\"ticks\":\"\"},\"baxis\":{\"gridcolor\":\"white\",\"linecolor\":\"white\",\"ticks\":\"\"},\"caxis\":{\"gridcolor\":\"white\",\"linecolor\":\"white\",\"ticks\":\"\"}},\"coloraxis\":{\"colorbar\":{\"outlinewidth\":0,\"ticks\":\"\"}},\"colorscale\":{\"sequential\":[[0.0,\"#0d0887\"],[0.1111111111111111,\"#46039f\"],[0.2222222222222222,\"#7201a8\"],[0.3333333333333333,\"#9c179e\"],[0.4444444444444444,\"#bd3786\"],[0.5555555555555556,\"#d8576b\"],[0.6666666666666666,\"#ed7953\"],[0.7777777777777778,\"#fb9f3a\"],[0.8888888888888888,\"#fdca26\"],[1.0,\"#f0f921\"]],\"sequentialminus\":[[0.0,\"#0d0887\"],[0.1111111111111111,\"#46039f\"],[0.2222222222222222,\"#7201a8\"],[0.3333333333333333,\"#9c179e\"],[0.4444444444444444,\"#bd3786\"],[0.5555555555555556,\"#d8576b\"],[0.6666666666666666,\"#ed7953\"],[0.7777777777777778,\"#fb9f3a\"],[0.8888888888888888,\"#fdca26\"],[1.0,\"#f0f921\"]],\"diverging\":[[0,\"#8e0152\"],[0.1,\"#c51b7d\"],[0.2,\"#de77ae\"],[0.3,\"#f1b6da\"],[0.4,\"#fde0ef\"],[0.5,\"#f7f7f7\"],[0.6,\"#e6f5d0\"],[0.7,\"#b8e186\"],[0.8,\"#7fbc41\"],[0.9,\"#4d9221\"],[1,\"#276419\"]]},\"xaxis\":{\"gridcolor\":\"white\",\"linecolor\":\"white\",\"ticks\":\"\",\"title\":{\"standoff\":15},\"zerolinecolor\":\"white\",\"automargin\":true,\"zerolinewidth\":2},\"yaxis\":{\"gridcolor\":\"white\",\"linecolor\":\"white\",\"ticks\":\"\",\"title\":{\"standoff\":15},\"zerolinecolor\":\"white\",\"automargin\":true,\"zerolinewidth\":2},\"scene\":{\"xaxis\":{\"backgroundcolor\":\"#E5ECF6\",\"gridcolor\":\"white\",\"linecolor\":\"white\",\"showbackground\":true,\"ticks\":\"\",\"zerolinecolor\":\"white\",\"gridwidth\":2},\"yaxis\":{\"backgroundcolor\":\"#E5ECF6\",\"gridcolor\":\"white\",\"linecolor\":\"white\",\"showbackground\":true,\"ticks\":\"\",\"zerolinecolor\":\"white\",\"gridwidth\":2},\"zaxis\":{\"backgroundcolor\":\"#E5ECF6\",\"gridcolor\":\"white\",\"linecolor\":\"white\",\"showbackground\":true,\"ticks\":\"\",\"zerolinecolor\":\"white\",\"gridwidth\":2}},\"shapedefaults\":{\"line\":{\"color\":\"#2a3f5f\"}},\"annotationdefaults\":{\"arrowcolor\":\"#2a3f5f\",\"arrowhead\":0,\"arrowwidth\":1},\"geo\":{\"bgcolor\":\"white\",\"landcolor\":\"#E5ECF6\",\"subunitcolor\":\"white\",\"showland\":true,\"showlakes\":true,\"lakecolor\":\"white\"},\"title\":{\"x\":0.05},\"mapbox\":{\"style\":\"light\"}}},\"xaxis\":{\"anchor\":\"y\",\"domain\":[0.0,1.0],\"title\":{\"text\":\"Idade\"}},\"yaxis\":{\"anchor\":\"x\",\"domain\":[0.0,1.0],\"title\":{\"text\":\"Sal\\u00e1rio\"}},\"legend\":{\"tracegroupgap\":0},\"margin\":{\"t\":60},\"title\":{\"text\":\"Idade x Sal\\u00e1rio\"}},                        {\"responsive\": true}                    ).then(function(){\n",
              "                            \n",
              "var gd = document.getElementById('714d9b25-2b95-4488-9af0-44bce82b579b');\n",
              "var x = new MutationObserver(function (mutations, observer) {{\n",
              "        var display = window.getComputedStyle(gd).display;\n",
              "        if (!display || display === 'none') {{\n",
              "            console.log([gd, 'removed!']);\n",
              "            Plotly.purge(gd);\n",
              "            observer.disconnect();\n",
              "        }}\n",
              "}});\n",
              "\n",
              "// Listen for the removal of the full notebook cells\n",
              "var notebookContainer = gd.closest('#notebook-container');\n",
              "if (notebookContainer) {{\n",
              "    x.observe(notebookContainer, {childList: true});\n",
              "}}\n",
              "\n",
              "// Listen for the clearing of the current output cell\n",
              "var outputEl = gd.closest('.output');\n",
              "if (outputEl) {{\n",
              "    x.observe(outputEl, {childList: true});\n",
              "}}\n",
              "\n",
              "                        })                };                            </script>        </div>\n",
              "</body>\n",
              "</html>"
            ]
          },
          "metadata": {}
        }
      ]
    },
    {
      "cell_type": "code",
      "source": [
        "data = np.array([[20,1000], [27,1200], [21,2900], [37, 1850], [46,900],\n",
        "                 [53,950], [55,2000], [47, 2100], [52,3000], [32,5900],\n",
        "                 [39,4100], [41,5100], [39,7000], [48,5000], [48,6500]])"
      ],
      "metadata": {
        "id": "6oePfPEV8l55"
      },
      "execution_count": 60,
      "outputs": []
    },
    {
      "cell_type": "code",
      "source": [
        "data"
      ],
      "metadata": {
        "colab": {
          "base_uri": "https://localhost:8080/"
        },
        "id": "HPnlFegKABCX",
        "outputId": "f7c29231-d593-40a7-bc68-540f28290c91"
      },
      "execution_count": 61,
      "outputs": [
        {
          "output_type": "execute_result",
          "data": {
            "text/plain": [
              "array([[  20, 1000],\n",
              "       [  27, 1200],\n",
              "       [  21, 2900],\n",
              "       [  37, 1850],\n",
              "       [  46,  900],\n",
              "       [  53,  950],\n",
              "       [  55, 2000],\n",
              "       [  47, 2100],\n",
              "       [  52, 3000],\n",
              "       [  32, 5900],\n",
              "       [  39, 4100],\n",
              "       [  41, 5100],\n",
              "       [  39, 7000],\n",
              "       [  48, 5000],\n",
              "       [  48, 6500]])"
            ]
          },
          "metadata": {},
          "execution_count": 61
        }
      ]
    },
    {
      "cell_type": "code",
      "source": [
        "scaler = StandardScaler()\n",
        "data = scaler.fit_transform(data)"
      ],
      "metadata": {
        "id": "yIyN43wZAGVI"
      },
      "execution_count": 62,
      "outputs": []
    },
    {
      "cell_type": "code",
      "source": [
        "data"
      ],
      "metadata": {
        "colab": {
          "base_uri": "https://localhost:8080/"
        },
        "id": "puihD7vdAh2-",
        "outputId": "afa277cc-1802-4050-ca4a-3aeff17ed992"
      },
      "execution_count": 63,
      "outputs": [
        {
          "output_type": "execute_result",
          "data": {
            "text/plain": [
              "array([[-1.87963884, -1.11413572],\n",
              "       [-1.23255006, -1.01725435],\n",
              "       [-1.78719758, -0.19376273],\n",
              "       [-0.30813751, -0.70238991],\n",
              "       [ 0.52383377, -1.1625764 ],\n",
              "       [ 1.17092255, -1.13835606],\n",
              "       [ 1.35580506, -0.62972888],\n",
              "       [ 0.61627503, -0.5812882 ],\n",
              "       [ 1.0784813 , -0.14532205],\n",
              "       [-0.77034379,  1.25945777],\n",
              "       [-0.12325501,  0.38752547],\n",
              "       [ 0.0616275 ,  0.8719323 ],\n",
              "       [-0.12325501,  1.79230528],\n",
              "       [ 0.70871628,  0.82349162],\n",
              "       [ 0.70871628,  1.55010187]])"
            ]
          },
          "metadata": {},
          "execution_count": 63
        }
      ]
    },
    {
      "cell_type": "code",
      "source": [
        "model_kmeans = KMeans(n_clusters=3)\n",
        "model_kmeans.fit(data)"
      ],
      "metadata": {
        "colab": {
          "base_uri": "https://localhost:8080/",
          "height": 164
        },
        "id": "TZPmIS37Aiqp",
        "outputId": "10ecf1d3-fa80-43eb-9fd0-972dacdf9dea"
      },
      "execution_count": 64,
      "outputs": [
        {
          "output_type": "stream",
          "name": "stderr",
          "text": [
            "/usr/local/lib/python3.10/dist-packages/sklearn/cluster/_kmeans.py:870: FutureWarning:\n",
            "\n",
            "The default value of `n_init` will change from 10 to 'auto' in 1.4. Set the value of `n_init` explicitly to suppress the warning\n",
            "\n"
          ]
        },
        {
          "output_type": "execute_result",
          "data": {
            "text/plain": [
              "KMeans(n_clusters=3)"
            ],
            "text/html": [
              "<style>#sk-container-id-5 {color: black;background-color: white;}#sk-container-id-5 pre{padding: 0;}#sk-container-id-5 div.sk-toggleable {background-color: white;}#sk-container-id-5 label.sk-toggleable__label {cursor: pointer;display: block;width: 100%;margin-bottom: 0;padding: 0.3em;box-sizing: border-box;text-align: center;}#sk-container-id-5 label.sk-toggleable__label-arrow:before {content: \"▸\";float: left;margin-right: 0.25em;color: #696969;}#sk-container-id-5 label.sk-toggleable__label-arrow:hover:before {color: black;}#sk-container-id-5 div.sk-estimator:hover label.sk-toggleable__label-arrow:before {color: black;}#sk-container-id-5 div.sk-toggleable__content {max-height: 0;max-width: 0;overflow: hidden;text-align: left;background-color: #f0f8ff;}#sk-container-id-5 div.sk-toggleable__content pre {margin: 0.2em;color: black;border-radius: 0.25em;background-color: #f0f8ff;}#sk-container-id-5 input.sk-toggleable__control:checked~div.sk-toggleable__content {max-height: 200px;max-width: 100%;overflow: auto;}#sk-container-id-5 input.sk-toggleable__control:checked~label.sk-toggleable__label-arrow:before {content: \"▾\";}#sk-container-id-5 div.sk-estimator input.sk-toggleable__control:checked~label.sk-toggleable__label {background-color: #d4ebff;}#sk-container-id-5 div.sk-label input.sk-toggleable__control:checked~label.sk-toggleable__label {background-color: #d4ebff;}#sk-container-id-5 input.sk-hidden--visually {border: 0;clip: rect(1px 1px 1px 1px);clip: rect(1px, 1px, 1px, 1px);height: 1px;margin: -1px;overflow: hidden;padding: 0;position: absolute;width: 1px;}#sk-container-id-5 div.sk-estimator {font-family: monospace;background-color: #f0f8ff;border: 1px dotted black;border-radius: 0.25em;box-sizing: border-box;margin-bottom: 0.5em;}#sk-container-id-5 div.sk-estimator:hover {background-color: #d4ebff;}#sk-container-id-5 div.sk-parallel-item::after {content: \"\";width: 100%;border-bottom: 1px solid gray;flex-grow: 1;}#sk-container-id-5 div.sk-label:hover label.sk-toggleable__label {background-color: #d4ebff;}#sk-container-id-5 div.sk-serial::before {content: \"\";position: absolute;border-left: 1px solid gray;box-sizing: border-box;top: 0;bottom: 0;left: 50%;z-index: 0;}#sk-container-id-5 div.sk-serial {display: flex;flex-direction: column;align-items: center;background-color: white;padding-right: 0.2em;padding-left: 0.2em;position: relative;}#sk-container-id-5 div.sk-item {position: relative;z-index: 1;}#sk-container-id-5 div.sk-parallel {display: flex;align-items: stretch;justify-content: center;background-color: white;position: relative;}#sk-container-id-5 div.sk-item::before, #sk-container-id-5 div.sk-parallel-item::before {content: \"\";position: absolute;border-left: 1px solid gray;box-sizing: border-box;top: 0;bottom: 0;left: 50%;z-index: -1;}#sk-container-id-5 div.sk-parallel-item {display: flex;flex-direction: column;z-index: 1;position: relative;background-color: white;}#sk-container-id-5 div.sk-parallel-item:first-child::after {align-self: flex-end;width: 50%;}#sk-container-id-5 div.sk-parallel-item:last-child::after {align-self: flex-start;width: 50%;}#sk-container-id-5 div.sk-parallel-item:only-child::after {width: 0;}#sk-container-id-5 div.sk-dashed-wrapped {border: 1px dashed gray;margin: 0 0.4em 0.5em 0.4em;box-sizing: border-box;padding-bottom: 0.4em;background-color: white;}#sk-container-id-5 div.sk-label label {font-family: monospace;font-weight: bold;display: inline-block;line-height: 1.2em;}#sk-container-id-5 div.sk-label-container {text-align: center;}#sk-container-id-5 div.sk-container {/* jupyter's `normalize.less` sets `[hidden] { display: none; }` but bootstrap.min.css set `[hidden] { display: none !important; }` so we also need the `!important` here to be able to override the default hidden behavior on the sphinx rendered scikit-learn.org. See: https://github.com/scikit-learn/scikit-learn/issues/21755 */display: inline-block !important;position: relative;}#sk-container-id-5 div.sk-text-repr-fallback {display: none;}</style><div id=\"sk-container-id-5\" class=\"sk-top-container\"><div class=\"sk-text-repr-fallback\"><pre>KMeans(n_clusters=3)</pre><b>In a Jupyter environment, please rerun this cell to show the HTML representation or trust the notebook. <br />On GitHub, the HTML representation is unable to render, please try loading this page with nbviewer.org.</b></div><div class=\"sk-container\" hidden><div class=\"sk-item\"><div class=\"sk-estimator sk-toggleable\"><input class=\"sk-toggleable__control sk-hidden--visually\" id=\"sk-estimator-id-5\" type=\"checkbox\" checked><label for=\"sk-estimator-id-5\" class=\"sk-toggleable__label sk-toggleable__label-arrow\">KMeans</label><div class=\"sk-toggleable__content\"><pre>KMeans(n_clusters=3)</pre></div></div></div></div></div>"
            ]
          },
          "metadata": {},
          "execution_count": 64
        }
      ]
    },
    {
      "cell_type": "code",
      "source": [
        "centroides = model_kmeans.cluster_centers_\n",
        "centroides"
      ],
      "metadata": {
        "colab": {
          "base_uri": "https://localhost:8080/"
        },
        "id": "xXRBKUCaAyw5",
        "outputId": "08f2a4b5-d1df-46ed-e09d-8c750a712734"
      },
      "execution_count": 65,
      "outputs": [
        {
          "output_type": "execute_result",
          "data": {
            "text/plain": [
              "array([[ 0.73953003, -0.72661025],\n",
              "       [ 0.07703438,  1.11413572],\n",
              "       [-1.63312883, -0.77505093]])"
            ]
          },
          "metadata": {},
          "execution_count": 65
        }
      ]
    },
    {
      "cell_type": "code",
      "source": [
        "scaler.inverse_transform(model_kmeans.cluster_centers_)"
      ],
      "metadata": {
        "colab": {
          "base_uri": "https://localhost:8080/"
        },
        "id": "s6NRic3aAx6Z",
        "outputId": "b22fdbbd-a8d5-430f-fe65-39743891bace"
      },
      "execution_count": 66,
      "outputs": [
        {
          "output_type": "execute_result",
          "data": {
            "text/plain": [
              "array([[  48.33333333, 1800.        ],\n",
              "       [  41.16666667, 5600.        ],\n",
              "       [  22.66666667, 1700.        ]])"
            ]
          },
          "metadata": {},
          "execution_count": 66
        }
      ]
    },
    {
      "cell_type": "code",
      "source": [
        "rotulos = model_kmeans.labels_\n",
        "rotulos"
      ],
      "metadata": {
        "colab": {
          "base_uri": "https://localhost:8080/"
        },
        "id": "xzo5JTHsBy4q",
        "outputId": "a4f00d0b-6637-4292-8feb-bea3ffa89f59"
      },
      "execution_count": 67,
      "outputs": [
        {
          "output_type": "execute_result",
          "data": {
            "text/plain": [
              "array([2, 2, 2, 0, 0, 0, 0, 0, 0, 1, 1, 1, 1, 1, 1], dtype=int32)"
            ]
          },
          "metadata": {},
          "execution_count": 67
        }
      ]
    },
    {
      "cell_type": "code",
      "source": [
        "grafico1 = px.scatter(x=data[:,0], y=data[:,1], color=rotulos)\n",
        "grafico2 = px.scatter(x= centroides[:,0], y=centroides[:,1], size=[12,12,12])\n",
        "grafico3 = go.Figure(data= grafico1.data + grafico2.data)\n",
        "grafico3.update_layout(title_text='Clusters')\n",
        "grafico3.show()"
      ],
      "metadata": {
        "colab": {
          "base_uri": "https://localhost:8080/",
          "height": 542
        },
        "id": "0_NrnY4TB_yh",
        "outputId": "2a278201-ca53-4534-a724-efaf74b2fa96"
      },
      "execution_count": 68,
      "outputs": [
        {
          "output_type": "display_data",
          "data": {
            "text/html": [
              "<html>\n",
              "<head><meta charset=\"utf-8\" /></head>\n",
              "<body>\n",
              "    <div>            <script src=\"https://cdnjs.cloudflare.com/ajax/libs/mathjax/2.7.5/MathJax.js?config=TeX-AMS-MML_SVG\"></script><script type=\"text/javascript\">if (window.MathJax && window.MathJax.Hub && window.MathJax.Hub.Config) {window.MathJax.Hub.Config({SVG: {font: \"STIX-Web\"}});}</script>                <script type=\"text/javascript\">window.PlotlyConfig = {MathJaxConfig: 'local'};</script>\n",
              "        <script charset=\"utf-8\" src=\"https://cdn.plot.ly/plotly-2.24.1.min.js\"></script>                <div id=\"efaa29dd-da56-4a02-a759-49596dc70f73\" class=\"plotly-graph-div\" style=\"height:525px; width:100%;\"></div>            <script type=\"text/javascript\">                                    window.PLOTLYENV=window.PLOTLYENV || {};                                    if (document.getElementById(\"efaa29dd-da56-4a02-a759-49596dc70f73\")) {                    Plotly.newPlot(                        \"efaa29dd-da56-4a02-a759-49596dc70f73\",                        [{\"hovertemplate\":\"x=%{x}\\u003cbr\\u003ey=%{y}\\u003cbr\\u003ecolor=%{marker.color}\\u003cextra\\u003e\\u003c\\u002fextra\\u003e\",\"legendgroup\":\"\",\"marker\":{\"color\":[2,2,2,0,0,0,0,0,0,1,1,1,1,1,1],\"coloraxis\":\"coloraxis\",\"symbol\":\"circle\"},\"mode\":\"markers\",\"name\":\"\",\"orientation\":\"v\",\"showlegend\":false,\"x\":[-1.8796388369139148,-1.232550056992731,-1.78719758263946,-0.3081375142481829,0.5238337742219104,1.170922554143094,1.3558050626920037,0.6162750284963652,1.0784812998686393,-0.770343785620457,-0.1232550056992733,0.06162750284963633,-0.1232550056992733,0.70871628277082,0.70871628277082],\"xaxis\":\"x\",\"y\":[-1.1141357172977029,-1.0172543505761635,-0.19376273344307876,-0.7023899087311605,-1.1625764006584725,-1.1383560589780877,-0.6297288836900059,-0.5812882003292362,-0.14532205008230906,1.2594577673800118,0.3875254668861575,0.8719323004938544,1.7923052843484784,0.8234916171330847,1.55010186754463],\"yaxis\":\"y\",\"type\":\"scatter\"},{\"hovertemplate\":\"x=%{x}\\u003cbr\\u003ey=%{y}\\u003cbr\\u003esize=%{marker.size}\\u003cextra\\u003e\\u003c\\u002fextra\\u003e\",\"legendgroup\":\"\",\"marker\":{\"color\":\"#636efa\",\"size\":[12,12,12],\"sizemode\":\"area\",\"sizeref\":0.03,\"symbol\":\"circle\"},\"mode\":\"markers\",\"name\":\"\",\"orientation\":\"v\",\"showlegend\":false,\"x\":[0.7395300341956381,0.07703437856204544,-1.6331288255153686],\"xaxis\":\"x\",\"y\":[-0.7266102504115454,1.1141357172977027,-0.775050933772315],\"yaxis\":\"y\",\"type\":\"scatter\"}],                        {\"template\":{\"data\":{\"histogram2dcontour\":[{\"type\":\"histogram2dcontour\",\"colorbar\":{\"outlinewidth\":0,\"ticks\":\"\"},\"colorscale\":[[0.0,\"#0d0887\"],[0.1111111111111111,\"#46039f\"],[0.2222222222222222,\"#7201a8\"],[0.3333333333333333,\"#9c179e\"],[0.4444444444444444,\"#bd3786\"],[0.5555555555555556,\"#d8576b\"],[0.6666666666666666,\"#ed7953\"],[0.7777777777777778,\"#fb9f3a\"],[0.8888888888888888,\"#fdca26\"],[1.0,\"#f0f921\"]]}],\"choropleth\":[{\"type\":\"choropleth\",\"colorbar\":{\"outlinewidth\":0,\"ticks\":\"\"}}],\"histogram2d\":[{\"type\":\"histogram2d\",\"colorbar\":{\"outlinewidth\":0,\"ticks\":\"\"},\"colorscale\":[[0.0,\"#0d0887\"],[0.1111111111111111,\"#46039f\"],[0.2222222222222222,\"#7201a8\"],[0.3333333333333333,\"#9c179e\"],[0.4444444444444444,\"#bd3786\"],[0.5555555555555556,\"#d8576b\"],[0.6666666666666666,\"#ed7953\"],[0.7777777777777778,\"#fb9f3a\"],[0.8888888888888888,\"#fdca26\"],[1.0,\"#f0f921\"]]}],\"heatmap\":[{\"type\":\"heatmap\",\"colorbar\":{\"outlinewidth\":0,\"ticks\":\"\"},\"colorscale\":[[0.0,\"#0d0887\"],[0.1111111111111111,\"#46039f\"],[0.2222222222222222,\"#7201a8\"],[0.3333333333333333,\"#9c179e\"],[0.4444444444444444,\"#bd3786\"],[0.5555555555555556,\"#d8576b\"],[0.6666666666666666,\"#ed7953\"],[0.7777777777777778,\"#fb9f3a\"],[0.8888888888888888,\"#fdca26\"],[1.0,\"#f0f921\"]]}],\"heatmapgl\":[{\"type\":\"heatmapgl\",\"colorbar\":{\"outlinewidth\":0,\"ticks\":\"\"},\"colorscale\":[[0.0,\"#0d0887\"],[0.1111111111111111,\"#46039f\"],[0.2222222222222222,\"#7201a8\"],[0.3333333333333333,\"#9c179e\"],[0.4444444444444444,\"#bd3786\"],[0.5555555555555556,\"#d8576b\"],[0.6666666666666666,\"#ed7953\"],[0.7777777777777778,\"#fb9f3a\"],[0.8888888888888888,\"#fdca26\"],[1.0,\"#f0f921\"]]}],\"contourcarpet\":[{\"type\":\"contourcarpet\",\"colorbar\":{\"outlinewidth\":0,\"ticks\":\"\"}}],\"contour\":[{\"type\":\"contour\",\"colorbar\":{\"outlinewidth\":0,\"ticks\":\"\"},\"colorscale\":[[0.0,\"#0d0887\"],[0.1111111111111111,\"#46039f\"],[0.2222222222222222,\"#7201a8\"],[0.3333333333333333,\"#9c179e\"],[0.4444444444444444,\"#bd3786\"],[0.5555555555555556,\"#d8576b\"],[0.6666666666666666,\"#ed7953\"],[0.7777777777777778,\"#fb9f3a\"],[0.8888888888888888,\"#fdca26\"],[1.0,\"#f0f921\"]]}],\"surface\":[{\"type\":\"surface\",\"colorbar\":{\"outlinewidth\":0,\"ticks\":\"\"},\"colorscale\":[[0.0,\"#0d0887\"],[0.1111111111111111,\"#46039f\"],[0.2222222222222222,\"#7201a8\"],[0.3333333333333333,\"#9c179e\"],[0.4444444444444444,\"#bd3786\"],[0.5555555555555556,\"#d8576b\"],[0.6666666666666666,\"#ed7953\"],[0.7777777777777778,\"#fb9f3a\"],[0.8888888888888888,\"#fdca26\"],[1.0,\"#f0f921\"]]}],\"mesh3d\":[{\"type\":\"mesh3d\",\"colorbar\":{\"outlinewidth\":0,\"ticks\":\"\"}}],\"scatter\":[{\"fillpattern\":{\"fillmode\":\"overlay\",\"size\":10,\"solidity\":0.2},\"type\":\"scatter\"}],\"parcoords\":[{\"type\":\"parcoords\",\"line\":{\"colorbar\":{\"outlinewidth\":0,\"ticks\":\"\"}}}],\"scatterpolargl\":[{\"type\":\"scatterpolargl\",\"marker\":{\"colorbar\":{\"outlinewidth\":0,\"ticks\":\"\"}}}],\"bar\":[{\"error_x\":{\"color\":\"#2a3f5f\"},\"error_y\":{\"color\":\"#2a3f5f\"},\"marker\":{\"line\":{\"color\":\"#E5ECF6\",\"width\":0.5},\"pattern\":{\"fillmode\":\"overlay\",\"size\":10,\"solidity\":0.2}},\"type\":\"bar\"}],\"scattergeo\":[{\"type\":\"scattergeo\",\"marker\":{\"colorbar\":{\"outlinewidth\":0,\"ticks\":\"\"}}}],\"scatterpolar\":[{\"type\":\"scatterpolar\",\"marker\":{\"colorbar\":{\"outlinewidth\":0,\"ticks\":\"\"}}}],\"histogram\":[{\"marker\":{\"pattern\":{\"fillmode\":\"overlay\",\"size\":10,\"solidity\":0.2}},\"type\":\"histogram\"}],\"scattergl\":[{\"type\":\"scattergl\",\"marker\":{\"colorbar\":{\"outlinewidth\":0,\"ticks\":\"\"}}}],\"scatter3d\":[{\"type\":\"scatter3d\",\"line\":{\"colorbar\":{\"outlinewidth\":0,\"ticks\":\"\"}},\"marker\":{\"colorbar\":{\"outlinewidth\":0,\"ticks\":\"\"}}}],\"scattermapbox\":[{\"type\":\"scattermapbox\",\"marker\":{\"colorbar\":{\"outlinewidth\":0,\"ticks\":\"\"}}}],\"scatterternary\":[{\"type\":\"scatterternary\",\"marker\":{\"colorbar\":{\"outlinewidth\":0,\"ticks\":\"\"}}}],\"scattercarpet\":[{\"type\":\"scattercarpet\",\"marker\":{\"colorbar\":{\"outlinewidth\":0,\"ticks\":\"\"}}}],\"carpet\":[{\"aaxis\":{\"endlinecolor\":\"#2a3f5f\",\"gridcolor\":\"white\",\"linecolor\":\"white\",\"minorgridcolor\":\"white\",\"startlinecolor\":\"#2a3f5f\"},\"baxis\":{\"endlinecolor\":\"#2a3f5f\",\"gridcolor\":\"white\",\"linecolor\":\"white\",\"minorgridcolor\":\"white\",\"startlinecolor\":\"#2a3f5f\"},\"type\":\"carpet\"}],\"table\":[{\"cells\":{\"fill\":{\"color\":\"#EBF0F8\"},\"line\":{\"color\":\"white\"}},\"header\":{\"fill\":{\"color\":\"#C8D4E3\"},\"line\":{\"color\":\"white\"}},\"type\":\"table\"}],\"barpolar\":[{\"marker\":{\"line\":{\"color\":\"#E5ECF6\",\"width\":0.5},\"pattern\":{\"fillmode\":\"overlay\",\"size\":10,\"solidity\":0.2}},\"type\":\"barpolar\"}],\"pie\":[{\"automargin\":true,\"type\":\"pie\"}]},\"layout\":{\"autotypenumbers\":\"strict\",\"colorway\":[\"#636efa\",\"#EF553B\",\"#00cc96\",\"#ab63fa\",\"#FFA15A\",\"#19d3f3\",\"#FF6692\",\"#B6E880\",\"#FF97FF\",\"#FECB52\"],\"font\":{\"color\":\"#2a3f5f\"},\"hovermode\":\"closest\",\"hoverlabel\":{\"align\":\"left\"},\"paper_bgcolor\":\"white\",\"plot_bgcolor\":\"#E5ECF6\",\"polar\":{\"bgcolor\":\"#E5ECF6\",\"angularaxis\":{\"gridcolor\":\"white\",\"linecolor\":\"white\",\"ticks\":\"\"},\"radialaxis\":{\"gridcolor\":\"white\",\"linecolor\":\"white\",\"ticks\":\"\"}},\"ternary\":{\"bgcolor\":\"#E5ECF6\",\"aaxis\":{\"gridcolor\":\"white\",\"linecolor\":\"white\",\"ticks\":\"\"},\"baxis\":{\"gridcolor\":\"white\",\"linecolor\":\"white\",\"ticks\":\"\"},\"caxis\":{\"gridcolor\":\"white\",\"linecolor\":\"white\",\"ticks\":\"\"}},\"coloraxis\":{\"colorbar\":{\"outlinewidth\":0,\"ticks\":\"\"}},\"colorscale\":{\"sequential\":[[0.0,\"#0d0887\"],[0.1111111111111111,\"#46039f\"],[0.2222222222222222,\"#7201a8\"],[0.3333333333333333,\"#9c179e\"],[0.4444444444444444,\"#bd3786\"],[0.5555555555555556,\"#d8576b\"],[0.6666666666666666,\"#ed7953\"],[0.7777777777777778,\"#fb9f3a\"],[0.8888888888888888,\"#fdca26\"],[1.0,\"#f0f921\"]],\"sequentialminus\":[[0.0,\"#0d0887\"],[0.1111111111111111,\"#46039f\"],[0.2222222222222222,\"#7201a8\"],[0.3333333333333333,\"#9c179e\"],[0.4444444444444444,\"#bd3786\"],[0.5555555555555556,\"#d8576b\"],[0.6666666666666666,\"#ed7953\"],[0.7777777777777778,\"#fb9f3a\"],[0.8888888888888888,\"#fdca26\"],[1.0,\"#f0f921\"]],\"diverging\":[[0,\"#8e0152\"],[0.1,\"#c51b7d\"],[0.2,\"#de77ae\"],[0.3,\"#f1b6da\"],[0.4,\"#fde0ef\"],[0.5,\"#f7f7f7\"],[0.6,\"#e6f5d0\"],[0.7,\"#b8e186\"],[0.8,\"#7fbc41\"],[0.9,\"#4d9221\"],[1,\"#276419\"]]},\"xaxis\":{\"gridcolor\":\"white\",\"linecolor\":\"white\",\"ticks\":\"\",\"title\":{\"standoff\":15},\"zerolinecolor\":\"white\",\"automargin\":true,\"zerolinewidth\":2},\"yaxis\":{\"gridcolor\":\"white\",\"linecolor\":\"white\",\"ticks\":\"\",\"title\":{\"standoff\":15},\"zerolinecolor\":\"white\",\"automargin\":true,\"zerolinewidth\":2},\"scene\":{\"xaxis\":{\"backgroundcolor\":\"#E5ECF6\",\"gridcolor\":\"white\",\"linecolor\":\"white\",\"showbackground\":true,\"ticks\":\"\",\"zerolinecolor\":\"white\",\"gridwidth\":2},\"yaxis\":{\"backgroundcolor\":\"#E5ECF6\",\"gridcolor\":\"white\",\"linecolor\":\"white\",\"showbackground\":true,\"ticks\":\"\",\"zerolinecolor\":\"white\",\"gridwidth\":2},\"zaxis\":{\"backgroundcolor\":\"#E5ECF6\",\"gridcolor\":\"white\",\"linecolor\":\"white\",\"showbackground\":true,\"ticks\":\"\",\"zerolinecolor\":\"white\",\"gridwidth\":2}},\"shapedefaults\":{\"line\":{\"color\":\"#2a3f5f\"}},\"annotationdefaults\":{\"arrowcolor\":\"#2a3f5f\",\"arrowhead\":0,\"arrowwidth\":1},\"geo\":{\"bgcolor\":\"white\",\"landcolor\":\"#E5ECF6\",\"subunitcolor\":\"white\",\"showland\":true,\"showlakes\":true,\"lakecolor\":\"white\"},\"title\":{\"x\":0.05},\"mapbox\":{\"style\":\"light\"}}},\"title\":{\"text\":\"Clusters\"}},                        {\"responsive\": true}                    ).then(function(){\n",
              "                            \n",
              "var gd = document.getElementById('efaa29dd-da56-4a02-a759-49596dc70f73');\n",
              "var x = new MutationObserver(function (mutations, observer) {{\n",
              "        var display = window.getComputedStyle(gd).display;\n",
              "        if (!display || display === 'none') {{\n",
              "            console.log([gd, 'removed!']);\n",
              "            Plotly.purge(gd);\n",
              "            observer.disconnect();\n",
              "        }}\n",
              "}});\n",
              "\n",
              "// Listen for the removal of the full notebook cells\n",
              "var notebookContainer = gd.closest('#notebook-container');\n",
              "if (notebookContainer) {{\n",
              "    x.observe(notebookContainer, {childList: true});\n",
              "}}\n",
              "\n",
              "// Listen for the clearing of the current output cell\n",
              "var outputEl = gd.closest('.output');\n",
              "if (outputEl) {{\n",
              "    x.observe(outputEl, {childList: true});\n",
              "}}\n",
              "\n",
              "                        })                };                            </script>        </div>\n",
              "</body>\n",
              "</html>"
            ]
          },
          "metadata": {}
        }
      ]
    },
    {
      "cell_type": "markdown",
      "source": [
        "# Dados Randômicos"
      ],
      "metadata": {
        "id": "OFTrdFXhDASJ"
      }
    },
    {
      "cell_type": "code",
      "source": [
        "from sklearn.datasets import make_blobs"
      ],
      "metadata": {
        "id": "d_0pkcd9Fkg6"
      },
      "execution_count": 69,
      "outputs": []
    },
    {
      "cell_type": "code",
      "source": [
        "X_random, y_random,  = make_blobs(n_samples=200, centers=5, random_state=0)"
      ],
      "metadata": {
        "id": "OI6yWpJaDQiJ"
      },
      "execution_count": 70,
      "outputs": []
    },
    {
      "cell_type": "code",
      "source": [
        "X_random"
      ],
      "metadata": {
        "colab": {
          "base_uri": "https://localhost:8080/"
        },
        "id": "zfsTF8QhDj8r",
        "outputId": "d0f770ee-b5c5-4483-c886-1e71ef838b1e"
      },
      "execution_count": 71,
      "outputs": [
        {
          "output_type": "execute_result",
          "data": {
            "text/plain": [
              "array([[ 1.36069966,  0.74802912],\n",
              "       [-3.27894024,  9.89995288],\n",
              "       [ 0.58894326,  4.00148458],\n",
              "       [-0.97373942,  6.94454493],\n",
              "       [ 2.43169305, -0.20173713],\n",
              "       [ 0.62835793,  4.4601363 ],\n",
              "       [-2.16434104,  2.52061045],\n",
              "       [-0.65392827,  4.76656958],\n",
              "       [ 0.73240494,  2.87562511],\n",
              "       [ 1.956815  ,  0.23418537],\n",
              "       [ 2.11567076,  3.06896151],\n",
              "       [ 3.18190344, -0.18226785],\n",
              "       [ 7.01769098, -3.35367647],\n",
              "       [-2.34026827,  1.45145793],\n",
              "       [ 0.30380963,  3.94423417],\n",
              "       [ 0.829832  ,  1.74202664],\n",
              "       [-3.06770103,  2.98114426],\n",
              "       [-1.36641982,  7.15528181],\n",
              "       [-1.10630261,  7.5161316 ],\n",
              "       [ 2.41163392,  1.60423683],\n",
              "       [-2.37508158,  7.10478226],\n",
              "       [-2.47135027,  2.50783257],\n",
              "       [ 2.47034915,  4.09862906],\n",
              "       [-1.63313558,  7.9298116 ],\n",
              "       [ 8.58924431, -0.67161883],\n",
              "       [ 3.92282648,  1.80370832],\n",
              "       [-1.38420548,  8.97235138],\n",
              "       [ 1.05566092,  6.77544419],\n",
              "       [ 9.08260172, -2.72601914],\n",
              "       [-1.94030562,  9.37183707],\n",
              "       [ 2.18217961,  1.29965302],\n",
              "       [-2.17052242,  0.69447911],\n",
              "       [-0.07228289,  2.88376939],\n",
              "       [ 0.34194798,  3.94104616],\n",
              "       [-1.37039748,  3.1500633 ],\n",
              "       [ 2.15504965,  4.12386249],\n",
              "       [10.63778706, -3.02061881],\n",
              "       [-1.97385315,  6.45209606],\n",
              "       [ 1.62011397,  2.74692739],\n",
              "       [ 1.1312175 ,  4.68194985],\n",
              "       [-1.24697941,  2.81973187],\n",
              "       [ 1.42013331,  4.63746165],\n",
              "       [ 0.46546494,  3.12315514],\n",
              "       [ 1.98702592,  2.61100638],\n",
              "       [ 9.31188576, -3.98788473],\n",
              "       [ 9.2575731 , -2.17024146],\n",
              "       [ 9.85177671, -1.98151517],\n",
              "       [ 3.97820955,  2.37817845],\n",
              "       [ 2.22194102,  1.5326951 ],\n",
              "       [-0.72436475,  7.9238821 ],\n",
              "       [ 0.10547293,  3.72493766],\n",
              "       [ 1.78726415,  1.70012006],\n",
              "       [-0.96191209,  8.44430385],\n",
              "       [ 3.93841822, -0.4500954 ],\n",
              "       [ 9.97171236, -2.32739873],\n",
              "       [ 8.28774447, -3.80300463],\n",
              "       [-2.63128735,  2.97004734],\n",
              "       [-1.55914195,  7.93286018],\n",
              "       [10.34176461, -2.78455543],\n",
              "       [ 0.78478252,  1.86706037],\n",
              "       [ 8.67460127, -3.44706661],\n",
              "       [ 8.83233258, -2.61152512],\n",
              "       [-1.88089792,  1.54293097],\n",
              "       [ 0.4666179 ,  3.86571303],\n",
              "       [-2.56114686,  3.59947678],\n",
              "       [ 9.32275019, -1.83733285],\n",
              "       [ 0.1631238 ,  2.57750473],\n",
              "       [ 2.63185834,  0.6893649 ],\n",
              "       [ 1.55723507,  2.82719571],\n",
              "       [10.92139014, -2.16694187],\n",
              "       [10.02044354, -3.52011458],\n",
              "       [ 0.56400993,  1.33705536],\n",
              "       [ 9.84054549, -2.55384472],\n",
              "       [-0.09448254,  5.35823905],\n",
              "       [-0.73000011,  6.25456272],\n",
              "       [ 9.91656968, -3.90179303],\n",
              "       [ 0.63633194,  4.25441021],\n",
              "       [-1.99049999,  3.39936374],\n",
              "       [-0.88677249,  1.30092622],\n",
              "       [ 1.19404184,  2.80772861],\n",
              "       [-1.29042723,  7.54857282],\n",
              "       [-0.84920943,  5.06286726],\n",
              "       [ 2.2635425 ,  1.8743027 ],\n",
              "       [ 1.28535145,  1.43691285],\n",
              "       [-2.55478263,  9.4935907 ],\n",
              "       [-2.58251425,  6.48874251],\n",
              "       [ 0.08080352,  4.69068983],\n",
              "       [ 1.28933778,  3.44969159],\n",
              "       [ 7.50471676, -1.97568783],\n",
              "       [ 8.62096161, -2.85235894],\n",
              "       [-1.84456981,  7.78289272],\n",
              "       [ 9.00552167, -3.45918095],\n",
              "       [-0.55671702,  8.53020916],\n",
              "       [-1.96786016,  7.02246703],\n",
              "       [ 0.06897171,  4.35573272],\n",
              "       [ 1.7373078 ,  4.42546234],\n",
              "       [ 0.73936011,  0.43607906],\n",
              "       [-2.12422008,  2.67996053],\n",
              "       [ 8.50911129, -3.7689611 ],\n",
              "       [ 1.0220286 ,  4.11660348],\n",
              "       [-0.63762777,  4.09104705],\n",
              "       [-0.74057605,  2.45146316],\n",
              "       [ 7.57514939, -1.94388915],\n",
              "       [ 3.00251949,  0.74265357],\n",
              "       [ 1.1424453 ,  2.01467995],\n",
              "       [ 8.7935994 , -1.71081133],\n",
              "       [ 7.43018566, -2.80914363],\n",
              "       [-1.95295605,  8.77872074],\n",
              "       [-0.18887976,  5.20461381],\n",
              "       [-0.6700734 ,  2.26685667],\n",
              "       [ 2.66934689,  1.81987033],\n",
              "       [ 0.66471755,  4.35995267],\n",
              "       [ 6.61408297, -1.7248501 ],\n",
              "       [-2.83119417,  8.44583939],\n",
              "       [-1.54392443,  3.297034  ],\n",
              "       [ 1.05505217, -0.64710744],\n",
              "       [-0.90167256,  1.31582461],\n",
              "       [ 0.08848433,  2.32299086],\n",
              "       [-1.10064528,  3.5947903 ],\n",
              "       [-2.06976549,  3.33393231],\n",
              "       [ 8.91982346, -3.94764381],\n",
              "       [ 1.15369622,  3.90200639],\n",
              "       [10.04650819, -3.51505026],\n",
              "       [-0.37457245,  3.99750085],\n",
              "       [ 1.70536064,  4.43277024],\n",
              "       [-1.55123014,  2.17985135],\n",
              "       [ 0.94808785,  4.7321192 ],\n",
              "       [-2.43711503,  7.32864366],\n",
              "       [ 3.2460247 ,  2.84942165],\n",
              "       [-2.95096492,  2.42456238],\n",
              "       [-1.56618683,  1.74978876],\n",
              "       [ 1.0427873 ,  4.60625923],\n",
              "       [-0.55843761,  9.13730625],\n",
              "       [ 1.3105127 ,  0.07122512],\n",
              "       [-1.90066436,  7.44450664],\n",
              "       [10.73983393, -1.47861768],\n",
              "       [ 2.50904929,  5.7731461 ],\n",
              "       [-1.83591698,  1.24187846],\n",
              "       [ 9.55369692, -3.32429323],\n",
              "       [ 8.90856167, -2.17446577],\n",
              "       [ 2.3535057 ,  2.22404956],\n",
              "       [10.08777503, -2.27224403],\n",
              "       [-1.98243652,  2.93536142],\n",
              "       [-2.68308645,  3.69908036],\n",
              "       [-1.6477048 ,  8.2055159 ],\n",
              "       [ 4.4384123 ,  1.84214315],\n",
              "       [ 1.38093486,  0.92949422],\n",
              "       [ 0.70765653,  8.22555334],\n",
              "       [ 0.90779887,  0.45984362],\n",
              "       [ 1.12031365,  5.75806083],\n",
              "       [-0.60604519,  3.23660991],\n",
              "       [-1.35879643,  8.85563273],\n",
              "       [ 8.5854176 , -3.54524703],\n",
              "       [ 7.51736463, -1.88023516],\n",
              "       [ 9.06635153, -1.45099071],\n",
              "       [-1.57671974,  4.95740592],\n",
              "       [-3.18453558,  8.02423861],\n",
              "       [-2.33031368,  2.22833248],\n",
              "       [ 1.44193252,  2.76754364],\n",
              "       [10.20510358, -1.99120464],\n",
              "       [-0.58187269,  7.37474023],\n",
              "       [-1.38195733,  8.91320382],\n",
              "       [-2.81976092,  3.18493313],\n",
              "       [-2.40561103,  7.52316776],\n",
              "       [ 2.45127423, -0.19539785],\n",
              "       [-0.75511346,  3.74138642],\n",
              "       [-1.87634333,  7.3544329 ],\n",
              "       [-2.29350914,  9.04660531],\n",
              "       [10.03991839, -1.97487681],\n",
              "       [ 1.37861172,  3.61897724],\n",
              "       [-0.42724442,  3.57314599],\n",
              "       [-1.89608585,  2.67850308],\n",
              "       [-0.03241947,  0.84789724],\n",
              "       [ 2.72756228,  1.3051255 ],\n",
              "       [ 2.46452227,  6.1996765 ],\n",
              "       [-1.15053081,  8.4184137 ],\n",
              "       [ 9.08820154, -3.13881811],\n",
              "       [-1.40592279, 10.09218351],\n",
              "       [-1.30988218,  7.72815474],\n",
              "       [ 1.65209057,  2.12010873],\n",
              "       [ 1.64164854,  0.15020885],\n",
              "       [-0.61672511,  3.23510048],\n",
              "       [ 1.84070628,  3.56162231],\n",
              "       [-2.48284901,  2.57190049],\n",
              "       [-1.00362735,  2.74633593],\n",
              "       [ 2.20656076,  5.50616718],\n",
              "       [-2.26646701,  4.46089686],\n",
              "       [-0.27652528,  5.08127768],\n",
              "       [-0.7271909 ,  7.25967205],\n",
              "       [-0.55448262,  7.67588658],\n",
              "       [ 8.98141785, -3.09266184],\n",
              "       [ 0.88214412,  2.84128485],\n",
              "       [ 3.00468833,  0.9852149 ],\n",
              "       [ 1.41942144,  1.57409695],\n",
              "       [ 3.24329731,  1.21460627],\n",
              "       [ 2.06576754,  2.68353415],\n",
              "       [10.13117913, -1.19006776],\n",
              "       [10.11488647, -2.5806282 ],\n",
              "       [-1.65978459,  2.62009138],\n",
              "       [-0.754514  ,  7.71935608]])"
            ]
          },
          "metadata": {},
          "execution_count": 71
        }
      ]
    },
    {
      "cell_type": "code",
      "source": [
        "y_random"
      ],
      "metadata": {
        "colab": {
          "base_uri": "https://localhost:8080/"
        },
        "id": "Di9HaoLlD2jf",
        "outputId": "8b28ecef-872c-4ba2-bdd1-05647b0dcca2"
      },
      "execution_count": 72,
      "outputs": [
        {
          "output_type": "execute_result",
          "data": {
            "text/plain": [
              "array([1, 3, 0, 3, 1, 0, 2, 0, 2, 1, 0, 1, 4, 2, 0, 1, 2, 3, 3, 1, 3, 2,\n",
              "       0, 3, 4, 1, 3, 3, 4, 3, 1, 2, 0, 0, 2, 0, 4, 3, 1, 0, 2, 0, 0, 1,\n",
              "       4, 4, 4, 1, 1, 3, 0, 1, 3, 1, 4, 4, 2, 3, 4, 1, 4, 4, 2, 0, 2, 4,\n",
              "       0, 1, 1, 4, 4, 1, 4, 0, 0, 4, 2, 2, 2, 1, 3, 3, 1, 1, 3, 3, 0, 0,\n",
              "       4, 4, 3, 4, 3, 3, 0, 0, 1, 2, 4, 0, 0, 2, 4, 1, 1, 4, 4, 3, 0, 2,\n",
              "       1, 0, 4, 3, 2, 1, 2, 0, 2, 2, 4, 0, 4, 2, 0, 2, 0, 3, 0, 2, 2, 0,\n",
              "       3, 1, 3, 4, 0, 2, 4, 4, 1, 4, 2, 2, 3, 1, 1, 3, 1, 0, 2, 3, 4, 4,\n",
              "       4, 0, 3, 2, 0, 4, 3, 3, 2, 3, 1, 2, 3, 3, 4, 0, 2, 2, 2, 1, 0, 3,\n",
              "       4, 3, 3, 1, 1, 2, 0, 2, 2, 0, 2, 0, 3, 3, 4, 1, 1, 1, 1, 1, 4, 4,\n",
              "       2, 3])"
            ]
          },
          "metadata": {},
          "execution_count": 72
        }
      ]
    },
    {
      "cell_type": "code",
      "source": [
        "grafico = px.scatter(x=X_random[:,0], y= X_random[:,1])\n",
        "grafico.show()"
      ],
      "metadata": {
        "colab": {
          "base_uri": "https://localhost:8080/",
          "height": 542
        },
        "id": "DTeL0qVDD4xO",
        "outputId": "0d299586-81ac-4a1e-deeb-8e7ab328a39c"
      },
      "execution_count": 73,
      "outputs": [
        {
          "output_type": "display_data",
          "data": {
            "text/html": [
              "<html>\n",
              "<head><meta charset=\"utf-8\" /></head>\n",
              "<body>\n",
              "    <div>            <script src=\"https://cdnjs.cloudflare.com/ajax/libs/mathjax/2.7.5/MathJax.js?config=TeX-AMS-MML_SVG\"></script><script type=\"text/javascript\">if (window.MathJax && window.MathJax.Hub && window.MathJax.Hub.Config) {window.MathJax.Hub.Config({SVG: {font: \"STIX-Web\"}});}</script>                <script type=\"text/javascript\">window.PlotlyConfig = {MathJaxConfig: 'local'};</script>\n",
              "        <script charset=\"utf-8\" src=\"https://cdn.plot.ly/plotly-2.24.1.min.js\"></script>                <div id=\"c0835b8c-f8d0-4ff1-8d93-c33331bba19b\" class=\"plotly-graph-div\" style=\"height:525px; width:100%;\"></div>            <script type=\"text/javascript\">                                    window.PLOTLYENV=window.PLOTLYENV || {};                                    if (document.getElementById(\"c0835b8c-f8d0-4ff1-8d93-c33331bba19b\")) {                    Plotly.newPlot(                        \"c0835b8c-f8d0-4ff1-8d93-c33331bba19b\",                        [{\"hovertemplate\":\"x=%{x}\\u003cbr\\u003ey=%{y}\\u003cextra\\u003e\\u003c\\u002fextra\\u003e\",\"legendgroup\":\"\",\"marker\":{\"color\":\"#636efa\",\"symbol\":\"circle\"},\"mode\":\"markers\",\"name\":\"\",\"orientation\":\"v\",\"showlegend\":false,\"x\":[1.3606996617015126,-3.2789402425276446,0.5889432611385428,-0.9737394170222107,2.4316930525885074,0.6283579292203425,-2.1643410387741344,-0.6539282684195495,0.7324049374689467,1.9568149970074455,2.1156707630897955,3.181903443539385,7.017690980618397,-2.3402682724261084,0.303809630770544,0.82983200260271,-3.06770102766653,-1.36641981987472,-1.1063026114253707,2.4116339186072797,-2.375081583502894,-2.4713502691401557,2.4703491517041014,-1.6331355839274257,8.58924431228337,3.922826481859448,-1.384205475424471,1.0556609229377916,9.082601716439187,-1.9403056225305413,2.1821796141364977,-2.170522416054796,-0.07228288652059756,0.34194798486553146,-1.3703974752565298,2.1550496497061458,10.637787058123058,-1.9738531532097345,1.6201139697112406,1.1312175042434114,-1.2469794141786672,1.4201333112919208,0.46546494097762203,1.9870259161082466,9.311885761860774,9.257573098418032,9.851776707749465,3.978209547913263,2.221941016805407,-0.7243647509119446,0.10547292936461328,1.7872641504814974,-0.9619120858538707,3.938418218489132,9.971712359127922,8.287744472336437,-2.631287352650356,-1.559141946444622,10.341764609336595,0.7847825229471443,8.6746012730976,8.832332577727994,-1.8808979244753894,0.46661789679484156,-2.56114685500637,9.322750191670677,0.163123796502041,2.631858338047819,1.557235070740573,10.921390142228146,10.020443544225218,0.5640099287272724,9.840545487873255,-0.09448254296404746,-0.7300001120785176,9.916569675083515,0.6363319360587845,-1.9904999878679996,-0.8867724871243133,1.1940418363781755,-1.290427226036729,-0.84920942910602,2.263542499509738,1.2853514469875615,-2.554782626481467,-2.5825142461489037,0.08080351735281943,1.2893377801973964,7.504716759343555,8.620961610085567,-1.8445698131966584,9.00552167312662,-0.5567170236759637,-1.967860163297943,0.06897171416325287,1.7373078036934886,0.7393601109213568,-2.124220082187268,8.509111286114143,1.0220285958479411,-0.6376277690114565,-0.7405760511129292,7.575149390588332,3.002519489206626,1.1424452959887192,8.793599396012638,7.4301856598639375,-1.952956050602384,-0.18887976223686143,-0.6700734013192142,2.6693468917789582,0.6647175464191224,6.614082972023846,-2.831194172081232,-1.5439244270833459,1.0550521740433132,-0.9016725621947179,0.0884843309163823,-1.1006452824438044,-2.0697654892386232,8.919823461263388,1.153696220800248,10.046508187423186,-0.37457244843878534,1.7053606407240318,-1.551230137620841,0.9480878502078401,-2.437115032530179,3.2460247025341027,-2.950964922204437,-1.566186831449401,1.0427873009296629,-0.5584376102113618,1.310512699384438,-1.9006643571331703,10.739833925594764,2.509049292904953,-1.8359169822690276,9.553696915336882,8.908561665628902,2.3535056956389337,10.087775032508453,-1.9824365167392486,-2.683086445043818,-1.6477048040090254,4.4384122962968195,1.3809348607755019,0.7076565335045439,0.9077988690217755,1.1203136497073731,-0.6060451894410864,-1.3587964319786228,8.585417598991905,7.517364626582867,9.066351533856615,-1.5767197372875836,-3.184535580592657,-2.3303136773957465,1.441932518276955,10.205103584134891,-0.5818726927142359,-1.3819573344145895,-2.819760922945354,-2.405611033937004,2.451274234094523,-0.755113462008238,-1.8763433343877292,-2.293509140893105,10.039918391665672,1.3786117197240442,-0.42724441733479224,-1.896085851164349,-0.03241946873053658,2.7275622784453133,2.4645222723420948,-1.1505308070312947,9.088201539011244,-1.405922790909966,-1.3098821768417976,1.6520905744596983,1.6416485406731307,-0.6167251051293134,1.8407062774060008,-2.4828490137146826,-1.0036273526901516,2.2065607592742156,-2.2664670096132187,-0.27652528150343114,-0.7271908982933917,-0.5544826220560177,8.981417847272724,0.882144116318718,3.0046883283586387,1.4194214430539969,3.2432973137851797,2.0657675421536985,10.131179134312923,10.114886474094224,-1.659784590808861,-0.7545139973969618],\"xaxis\":\"x\",\"y\":[0.7480291196102661,9.899952877000914,4.001484576873055,6.944544932646066,-0.20173713064625765,4.46013629655237,2.520610447004325,4.7665695829741646,2.8756251096724803,0.23418537357582947,3.0689615070947376,-0.1822678484254865,-3.353676467120049,1.4514579335306088,3.9442341659078486,1.7420266363394838,2.9811442555334544,7.155281811644744,7.516131598496499,1.6042368281298849,7.104782262776769,2.507832568130574,4.098629063682589,7.929811604958668,-0.6716188272945733,1.8037083182133222,8.972351378244289,6.775444192920046,-2.7260191375178957,9.371837069887391,1.2996530233826384,0.6944791091086961,2.883769390269415,3.941046161461252,3.1500632975333986,4.123862491636039,-3.020618808034383,6.4520960602465385,2.7469273884172787,4.681949847050563,2.819731871690165,4.637461654822657,3.123155143325978,2.6110063815873037,-3.987884725806399,-2.1702414551862224,-1.9815151664912714,2.378178451372361,1.5326950968300432,7.923882102686256,3.7249376626839745,1.700120055734332,8.444303850117045,-0.4500954012045095,-2.327398734398176,-3.803004630948032,2.970047340594097,7.932860181910377,-2.784555427335833,1.8670603680959479,-3.44706660944484,-2.6115251186689545,1.542930967915104,3.8657130258372034,3.5994767796147498,-1.837332847203489,2.577504725116713,0.6893649043599419,2.8271957137549224,-2.1669418679971115,-3.5201145786881813,1.3370553612024738,-2.5538447239996,5.358239054379527,6.25456272268018,-3.901793032117898,4.254410210769515,3.399363735106585,1.3009262170222884,2.8077286130369705,7.548572823251686,5.0628672592149435,1.8743026964216496,1.4369128512297542,9.493590695259781,6.488742509844039,4.690689825307652,3.449691588146665,-1.9756878307406764,-2.8523589357855563,7.782892719372048,-3.4591809549544523,8.5302091592976,7.022467027087517,4.355732723244529,4.425462343941218,0.43607905512322787,2.679960531597116,-3.7689610972860237,4.116603477422556,4.091047047234421,2.45146316459718,-1.943889148089382,0.7426535668471026,2.01467994803379,-1.710811325140933,-2.809143627524932,8.778720740611089,5.2046138144025775,2.266856668032976,1.8198703315044638,4.359952669678135,-1.7248500991250646,8.445839394748798,3.2970339968882048,-0.6471074368396748,1.3158246057263752,2.322990859224463,3.594790296363368,3.3339323075945484,-3.947643812135478,3.902006391240128,-3.515050263677763,3.997500853369944,4.4327702382058005,2.179851352127434,4.7321191979788075,7.328643661342906,2.8494216528496255,2.4245623779709287,1.7497887635919254,4.606259225188172,9.137306245206592,0.07122512127892244,7.444506640453993,-1.4786176840232135,5.7731460973486755,1.241878455003146,-3.324293234414026,-2.1744657682120816,2.2240495566249674,-2.2722440343028154,2.9353614203581797,3.699080363043116,8.205515903489113,1.8421431469283507,0.9294942182122881,8.22555333832952,0.4598436151935028,5.758060834411365,3.236609914276144,8.855632727357394,-3.545247026578566,-1.8802351616785307,-1.450990711403663,4.957405922888751,8.024238612435422,2.228332483582922,2.7675436411711662,-1.9912046396831835,7.3747402282530405,8.913203821617858,3.184933130682306,7.523167764515901,-0.19539784879256894,3.741386415296854,7.354432897180806,9.046605305324295,-1.9748768060121566,3.618977236508077,3.5731459920557205,2.6785030837571964,0.8478972363195902,1.3051254961790473,6.199676503478973,8.418413695394888,-3.138818111100801,10.092183512939803,7.728154739350419,2.1201087303203643,0.15020884849717908,3.235100476524425,3.561622307041948,2.571900485633736,2.7463359301108747,5.506167176232801,4.460896856739859,5.0812776832803,7.259672045828528,7.675886577495327,-3.092661835296069,2.8412848455872295,0.9852149013231277,1.5740969548844366,1.2146062718627864,2.6835341538437723,-1.190067756826872,-2.5806282036453942,2.6200913819313945,7.719356076607228],\"yaxis\":\"y\",\"type\":\"scatter\"}],                        {\"template\":{\"data\":{\"histogram2dcontour\":[{\"type\":\"histogram2dcontour\",\"colorbar\":{\"outlinewidth\":0,\"ticks\":\"\"},\"colorscale\":[[0.0,\"#0d0887\"],[0.1111111111111111,\"#46039f\"],[0.2222222222222222,\"#7201a8\"],[0.3333333333333333,\"#9c179e\"],[0.4444444444444444,\"#bd3786\"],[0.5555555555555556,\"#d8576b\"],[0.6666666666666666,\"#ed7953\"],[0.7777777777777778,\"#fb9f3a\"],[0.8888888888888888,\"#fdca26\"],[1.0,\"#f0f921\"]]}],\"choropleth\":[{\"type\":\"choropleth\",\"colorbar\":{\"outlinewidth\":0,\"ticks\":\"\"}}],\"histogram2d\":[{\"type\":\"histogram2d\",\"colorbar\":{\"outlinewidth\":0,\"ticks\":\"\"},\"colorscale\":[[0.0,\"#0d0887\"],[0.1111111111111111,\"#46039f\"],[0.2222222222222222,\"#7201a8\"],[0.3333333333333333,\"#9c179e\"],[0.4444444444444444,\"#bd3786\"],[0.5555555555555556,\"#d8576b\"],[0.6666666666666666,\"#ed7953\"],[0.7777777777777778,\"#fb9f3a\"],[0.8888888888888888,\"#fdca26\"],[1.0,\"#f0f921\"]]}],\"heatmap\":[{\"type\":\"heatmap\",\"colorbar\":{\"outlinewidth\":0,\"ticks\":\"\"},\"colorscale\":[[0.0,\"#0d0887\"],[0.1111111111111111,\"#46039f\"],[0.2222222222222222,\"#7201a8\"],[0.3333333333333333,\"#9c179e\"],[0.4444444444444444,\"#bd3786\"],[0.5555555555555556,\"#d8576b\"],[0.6666666666666666,\"#ed7953\"],[0.7777777777777778,\"#fb9f3a\"],[0.8888888888888888,\"#fdca26\"],[1.0,\"#f0f921\"]]}],\"heatmapgl\":[{\"type\":\"heatmapgl\",\"colorbar\":{\"outlinewidth\":0,\"ticks\":\"\"},\"colorscale\":[[0.0,\"#0d0887\"],[0.1111111111111111,\"#46039f\"],[0.2222222222222222,\"#7201a8\"],[0.3333333333333333,\"#9c179e\"],[0.4444444444444444,\"#bd3786\"],[0.5555555555555556,\"#d8576b\"],[0.6666666666666666,\"#ed7953\"],[0.7777777777777778,\"#fb9f3a\"],[0.8888888888888888,\"#fdca26\"],[1.0,\"#f0f921\"]]}],\"contourcarpet\":[{\"type\":\"contourcarpet\",\"colorbar\":{\"outlinewidth\":0,\"ticks\":\"\"}}],\"contour\":[{\"type\":\"contour\",\"colorbar\":{\"outlinewidth\":0,\"ticks\":\"\"},\"colorscale\":[[0.0,\"#0d0887\"],[0.1111111111111111,\"#46039f\"],[0.2222222222222222,\"#7201a8\"],[0.3333333333333333,\"#9c179e\"],[0.4444444444444444,\"#bd3786\"],[0.5555555555555556,\"#d8576b\"],[0.6666666666666666,\"#ed7953\"],[0.7777777777777778,\"#fb9f3a\"],[0.8888888888888888,\"#fdca26\"],[1.0,\"#f0f921\"]]}],\"surface\":[{\"type\":\"surface\",\"colorbar\":{\"outlinewidth\":0,\"ticks\":\"\"},\"colorscale\":[[0.0,\"#0d0887\"],[0.1111111111111111,\"#46039f\"],[0.2222222222222222,\"#7201a8\"],[0.3333333333333333,\"#9c179e\"],[0.4444444444444444,\"#bd3786\"],[0.5555555555555556,\"#d8576b\"],[0.6666666666666666,\"#ed7953\"],[0.7777777777777778,\"#fb9f3a\"],[0.8888888888888888,\"#fdca26\"],[1.0,\"#f0f921\"]]}],\"mesh3d\":[{\"type\":\"mesh3d\",\"colorbar\":{\"outlinewidth\":0,\"ticks\":\"\"}}],\"scatter\":[{\"fillpattern\":{\"fillmode\":\"overlay\",\"size\":10,\"solidity\":0.2},\"type\":\"scatter\"}],\"parcoords\":[{\"type\":\"parcoords\",\"line\":{\"colorbar\":{\"outlinewidth\":0,\"ticks\":\"\"}}}],\"scatterpolargl\":[{\"type\":\"scatterpolargl\",\"marker\":{\"colorbar\":{\"outlinewidth\":0,\"ticks\":\"\"}}}],\"bar\":[{\"error_x\":{\"color\":\"#2a3f5f\"},\"error_y\":{\"color\":\"#2a3f5f\"},\"marker\":{\"line\":{\"color\":\"#E5ECF6\",\"width\":0.5},\"pattern\":{\"fillmode\":\"overlay\",\"size\":10,\"solidity\":0.2}},\"type\":\"bar\"}],\"scattergeo\":[{\"type\":\"scattergeo\",\"marker\":{\"colorbar\":{\"outlinewidth\":0,\"ticks\":\"\"}}}],\"scatterpolar\":[{\"type\":\"scatterpolar\",\"marker\":{\"colorbar\":{\"outlinewidth\":0,\"ticks\":\"\"}}}],\"histogram\":[{\"marker\":{\"pattern\":{\"fillmode\":\"overlay\",\"size\":10,\"solidity\":0.2}},\"type\":\"histogram\"}],\"scattergl\":[{\"type\":\"scattergl\",\"marker\":{\"colorbar\":{\"outlinewidth\":0,\"ticks\":\"\"}}}],\"scatter3d\":[{\"type\":\"scatter3d\",\"line\":{\"colorbar\":{\"outlinewidth\":0,\"ticks\":\"\"}},\"marker\":{\"colorbar\":{\"outlinewidth\":0,\"ticks\":\"\"}}}],\"scattermapbox\":[{\"type\":\"scattermapbox\",\"marker\":{\"colorbar\":{\"outlinewidth\":0,\"ticks\":\"\"}}}],\"scatterternary\":[{\"type\":\"scatterternary\",\"marker\":{\"colorbar\":{\"outlinewidth\":0,\"ticks\":\"\"}}}],\"scattercarpet\":[{\"type\":\"scattercarpet\",\"marker\":{\"colorbar\":{\"outlinewidth\":0,\"ticks\":\"\"}}}],\"carpet\":[{\"aaxis\":{\"endlinecolor\":\"#2a3f5f\",\"gridcolor\":\"white\",\"linecolor\":\"white\",\"minorgridcolor\":\"white\",\"startlinecolor\":\"#2a3f5f\"},\"baxis\":{\"endlinecolor\":\"#2a3f5f\",\"gridcolor\":\"white\",\"linecolor\":\"white\",\"minorgridcolor\":\"white\",\"startlinecolor\":\"#2a3f5f\"},\"type\":\"carpet\"}],\"table\":[{\"cells\":{\"fill\":{\"color\":\"#EBF0F8\"},\"line\":{\"color\":\"white\"}},\"header\":{\"fill\":{\"color\":\"#C8D4E3\"},\"line\":{\"color\":\"white\"}},\"type\":\"table\"}],\"barpolar\":[{\"marker\":{\"line\":{\"color\":\"#E5ECF6\",\"width\":0.5},\"pattern\":{\"fillmode\":\"overlay\",\"size\":10,\"solidity\":0.2}},\"type\":\"barpolar\"}],\"pie\":[{\"automargin\":true,\"type\":\"pie\"}]},\"layout\":{\"autotypenumbers\":\"strict\",\"colorway\":[\"#636efa\",\"#EF553B\",\"#00cc96\",\"#ab63fa\",\"#FFA15A\",\"#19d3f3\",\"#FF6692\",\"#B6E880\",\"#FF97FF\",\"#FECB52\"],\"font\":{\"color\":\"#2a3f5f\"},\"hovermode\":\"closest\",\"hoverlabel\":{\"align\":\"left\"},\"paper_bgcolor\":\"white\",\"plot_bgcolor\":\"#E5ECF6\",\"polar\":{\"bgcolor\":\"#E5ECF6\",\"angularaxis\":{\"gridcolor\":\"white\",\"linecolor\":\"white\",\"ticks\":\"\"},\"radialaxis\":{\"gridcolor\":\"white\",\"linecolor\":\"white\",\"ticks\":\"\"}},\"ternary\":{\"bgcolor\":\"#E5ECF6\",\"aaxis\":{\"gridcolor\":\"white\",\"linecolor\":\"white\",\"ticks\":\"\"},\"baxis\":{\"gridcolor\":\"white\",\"linecolor\":\"white\",\"ticks\":\"\"},\"caxis\":{\"gridcolor\":\"white\",\"linecolor\":\"white\",\"ticks\":\"\"}},\"coloraxis\":{\"colorbar\":{\"outlinewidth\":0,\"ticks\":\"\"}},\"colorscale\":{\"sequential\":[[0.0,\"#0d0887\"],[0.1111111111111111,\"#46039f\"],[0.2222222222222222,\"#7201a8\"],[0.3333333333333333,\"#9c179e\"],[0.4444444444444444,\"#bd3786\"],[0.5555555555555556,\"#d8576b\"],[0.6666666666666666,\"#ed7953\"],[0.7777777777777778,\"#fb9f3a\"],[0.8888888888888888,\"#fdca26\"],[1.0,\"#f0f921\"]],\"sequentialminus\":[[0.0,\"#0d0887\"],[0.1111111111111111,\"#46039f\"],[0.2222222222222222,\"#7201a8\"],[0.3333333333333333,\"#9c179e\"],[0.4444444444444444,\"#bd3786\"],[0.5555555555555556,\"#d8576b\"],[0.6666666666666666,\"#ed7953\"],[0.7777777777777778,\"#fb9f3a\"],[0.8888888888888888,\"#fdca26\"],[1.0,\"#f0f921\"]],\"diverging\":[[0,\"#8e0152\"],[0.1,\"#c51b7d\"],[0.2,\"#de77ae\"],[0.3,\"#f1b6da\"],[0.4,\"#fde0ef\"],[0.5,\"#f7f7f7\"],[0.6,\"#e6f5d0\"],[0.7,\"#b8e186\"],[0.8,\"#7fbc41\"],[0.9,\"#4d9221\"],[1,\"#276419\"]]},\"xaxis\":{\"gridcolor\":\"white\",\"linecolor\":\"white\",\"ticks\":\"\",\"title\":{\"standoff\":15},\"zerolinecolor\":\"white\",\"automargin\":true,\"zerolinewidth\":2},\"yaxis\":{\"gridcolor\":\"white\",\"linecolor\":\"white\",\"ticks\":\"\",\"title\":{\"standoff\":15},\"zerolinecolor\":\"white\",\"automargin\":true,\"zerolinewidth\":2},\"scene\":{\"xaxis\":{\"backgroundcolor\":\"#E5ECF6\",\"gridcolor\":\"white\",\"linecolor\":\"white\",\"showbackground\":true,\"ticks\":\"\",\"zerolinecolor\":\"white\",\"gridwidth\":2},\"yaxis\":{\"backgroundcolor\":\"#E5ECF6\",\"gridcolor\":\"white\",\"linecolor\":\"white\",\"showbackground\":true,\"ticks\":\"\",\"zerolinecolor\":\"white\",\"gridwidth\":2},\"zaxis\":{\"backgroundcolor\":\"#E5ECF6\",\"gridcolor\":\"white\",\"linecolor\":\"white\",\"showbackground\":true,\"ticks\":\"\",\"zerolinecolor\":\"white\",\"gridwidth\":2}},\"shapedefaults\":{\"line\":{\"color\":\"#2a3f5f\"}},\"annotationdefaults\":{\"arrowcolor\":\"#2a3f5f\",\"arrowhead\":0,\"arrowwidth\":1},\"geo\":{\"bgcolor\":\"white\",\"landcolor\":\"#E5ECF6\",\"subunitcolor\":\"white\",\"showland\":true,\"showlakes\":true,\"lakecolor\":\"white\"},\"title\":{\"x\":0.05},\"mapbox\":{\"style\":\"light\"}}},\"xaxis\":{\"anchor\":\"y\",\"domain\":[0.0,1.0],\"title\":{\"text\":\"x\"}},\"yaxis\":{\"anchor\":\"x\",\"domain\":[0.0,1.0],\"title\":{\"text\":\"y\"}},\"legend\":{\"tracegroupgap\":0},\"margin\":{\"t\":60}},                        {\"responsive\": true}                    ).then(function(){\n",
              "                            \n",
              "var gd = document.getElementById('c0835b8c-f8d0-4ff1-8d93-c33331bba19b');\n",
              "var x = new MutationObserver(function (mutations, observer) {{\n",
              "        var display = window.getComputedStyle(gd).display;\n",
              "        if (!display || display === 'none') {{\n",
              "            console.log([gd, 'removed!']);\n",
              "            Plotly.purge(gd);\n",
              "            observer.disconnect();\n",
              "        }}\n",
              "}});\n",
              "\n",
              "// Listen for the removal of the full notebook cells\n",
              "var notebookContainer = gd.closest('#notebook-container');\n",
              "if (notebookContainer) {{\n",
              "    x.observe(notebookContainer, {childList: true});\n",
              "}}\n",
              "\n",
              "// Listen for the clearing of the current output cell\n",
              "var outputEl = gd.closest('.output');\n",
              "if (outputEl) {{\n",
              "    x.observe(outputEl, {childList: true});\n",
              "}}\n",
              "\n",
              "                        })                };                            </script>        </div>\n",
              "</body>\n",
              "</html>"
            ]
          },
          "metadata": {}
        }
      ]
    },
    {
      "cell_type": "code",
      "source": [
        "model_kmeans = KMeans(n_clusters=5)\n",
        "model_kmeans.fit(X_random)"
      ],
      "metadata": {
        "colab": {
          "base_uri": "https://localhost:8080/",
          "height": 164
        },
        "id": "YILld-vmEq6U",
        "outputId": "62a3acad-ac2e-4086-da6b-e72eec76b7e3"
      },
      "execution_count": 74,
      "outputs": [
        {
          "output_type": "stream",
          "name": "stderr",
          "text": [
            "/usr/local/lib/python3.10/dist-packages/sklearn/cluster/_kmeans.py:870: FutureWarning:\n",
            "\n",
            "The default value of `n_init` will change from 10 to 'auto' in 1.4. Set the value of `n_init` explicitly to suppress the warning\n",
            "\n"
          ]
        },
        {
          "output_type": "execute_result",
          "data": {
            "text/plain": [
              "KMeans(n_clusters=5)"
            ],
            "text/html": [
              "<style>#sk-container-id-6 {color: black;background-color: white;}#sk-container-id-6 pre{padding: 0;}#sk-container-id-6 div.sk-toggleable {background-color: white;}#sk-container-id-6 label.sk-toggleable__label {cursor: pointer;display: block;width: 100%;margin-bottom: 0;padding: 0.3em;box-sizing: border-box;text-align: center;}#sk-container-id-6 label.sk-toggleable__label-arrow:before {content: \"▸\";float: left;margin-right: 0.25em;color: #696969;}#sk-container-id-6 label.sk-toggleable__label-arrow:hover:before {color: black;}#sk-container-id-6 div.sk-estimator:hover label.sk-toggleable__label-arrow:before {color: black;}#sk-container-id-6 div.sk-toggleable__content {max-height: 0;max-width: 0;overflow: hidden;text-align: left;background-color: #f0f8ff;}#sk-container-id-6 div.sk-toggleable__content pre {margin: 0.2em;color: black;border-radius: 0.25em;background-color: #f0f8ff;}#sk-container-id-6 input.sk-toggleable__control:checked~div.sk-toggleable__content {max-height: 200px;max-width: 100%;overflow: auto;}#sk-container-id-6 input.sk-toggleable__control:checked~label.sk-toggleable__label-arrow:before {content: \"▾\";}#sk-container-id-6 div.sk-estimator input.sk-toggleable__control:checked~label.sk-toggleable__label {background-color: #d4ebff;}#sk-container-id-6 div.sk-label input.sk-toggleable__control:checked~label.sk-toggleable__label {background-color: #d4ebff;}#sk-container-id-6 input.sk-hidden--visually {border: 0;clip: rect(1px 1px 1px 1px);clip: rect(1px, 1px, 1px, 1px);height: 1px;margin: -1px;overflow: hidden;padding: 0;position: absolute;width: 1px;}#sk-container-id-6 div.sk-estimator {font-family: monospace;background-color: #f0f8ff;border: 1px dotted black;border-radius: 0.25em;box-sizing: border-box;margin-bottom: 0.5em;}#sk-container-id-6 div.sk-estimator:hover {background-color: #d4ebff;}#sk-container-id-6 div.sk-parallel-item::after {content: \"\";width: 100%;border-bottom: 1px solid gray;flex-grow: 1;}#sk-container-id-6 div.sk-label:hover label.sk-toggleable__label {background-color: #d4ebff;}#sk-container-id-6 div.sk-serial::before {content: \"\";position: absolute;border-left: 1px solid gray;box-sizing: border-box;top: 0;bottom: 0;left: 50%;z-index: 0;}#sk-container-id-6 div.sk-serial {display: flex;flex-direction: column;align-items: center;background-color: white;padding-right: 0.2em;padding-left: 0.2em;position: relative;}#sk-container-id-6 div.sk-item {position: relative;z-index: 1;}#sk-container-id-6 div.sk-parallel {display: flex;align-items: stretch;justify-content: center;background-color: white;position: relative;}#sk-container-id-6 div.sk-item::before, #sk-container-id-6 div.sk-parallel-item::before {content: \"\";position: absolute;border-left: 1px solid gray;box-sizing: border-box;top: 0;bottom: 0;left: 50%;z-index: -1;}#sk-container-id-6 div.sk-parallel-item {display: flex;flex-direction: column;z-index: 1;position: relative;background-color: white;}#sk-container-id-6 div.sk-parallel-item:first-child::after {align-self: flex-end;width: 50%;}#sk-container-id-6 div.sk-parallel-item:last-child::after {align-self: flex-start;width: 50%;}#sk-container-id-6 div.sk-parallel-item:only-child::after {width: 0;}#sk-container-id-6 div.sk-dashed-wrapped {border: 1px dashed gray;margin: 0 0.4em 0.5em 0.4em;box-sizing: border-box;padding-bottom: 0.4em;background-color: white;}#sk-container-id-6 div.sk-label label {font-family: monospace;font-weight: bold;display: inline-block;line-height: 1.2em;}#sk-container-id-6 div.sk-label-container {text-align: center;}#sk-container-id-6 div.sk-container {/* jupyter's `normalize.less` sets `[hidden] { display: none; }` but bootstrap.min.css set `[hidden] { display: none !important; }` so we also need the `!important` here to be able to override the default hidden behavior on the sphinx rendered scikit-learn.org. See: https://github.com/scikit-learn/scikit-learn/issues/21755 */display: inline-block !important;position: relative;}#sk-container-id-6 div.sk-text-repr-fallback {display: none;}</style><div id=\"sk-container-id-6\" class=\"sk-top-container\"><div class=\"sk-text-repr-fallback\"><pre>KMeans(n_clusters=5)</pre><b>In a Jupyter environment, please rerun this cell to show the HTML representation or trust the notebook. <br />On GitHub, the HTML representation is unable to render, please try loading this page with nbviewer.org.</b></div><div class=\"sk-container\" hidden><div class=\"sk-item\"><div class=\"sk-estimator sk-toggleable\"><input class=\"sk-toggleable__control sk-hidden--visually\" id=\"sk-estimator-id-6\" type=\"checkbox\" checked><label for=\"sk-estimator-id-6\" class=\"sk-toggleable__label sk-toggleable__label-arrow\">KMeans</label><div class=\"sk-toggleable__content\"><pre>KMeans(n_clusters=5)</pre></div></div></div></div></div>"
            ]
          },
          "metadata": {},
          "execution_count": 74
        }
      ]
    },
    {
      "cell_type": "code",
      "source": [
        "rotulos =  model_kmeans.predict(X_random)\n",
        "rotulos"
      ],
      "metadata": {
        "colab": {
          "base_uri": "https://localhost:8080/"
        },
        "id": "5WSajX5rFkCP",
        "outputId": "f2642910-50ff-4117-9270-53d887ff5653"
      },
      "execution_count": 75,
      "outputs": [
        {
          "output_type": "execute_result",
          "data": {
            "text/plain": [
              "array([3, 0, 4, 0, 3, 4, 2, 4, 4, 3, 3, 3, 1, 2, 4, 3, 2, 0, 0, 3, 0, 2,\n",
              "       4, 0, 1, 3, 0, 4, 1, 0, 3, 2, 2, 4, 2, 4, 1, 0, 3, 4, 2, 4, 4, 3,\n",
              "       1, 1, 1, 3, 3, 0, 4, 3, 0, 3, 1, 1, 2, 0, 1, 3, 1, 1, 2, 4, 2, 1,\n",
              "       2, 3, 3, 1, 1, 3, 1, 4, 0, 1, 4, 2, 2, 3, 0, 4, 3, 3, 0, 0, 4, 4,\n",
              "       1, 1, 0, 1, 0, 0, 4, 4, 3, 2, 1, 4, 4, 2, 1, 3, 3, 1, 1, 0, 4, 2,\n",
              "       3, 4, 1, 0, 2, 3, 2, 2, 2, 2, 1, 4, 1, 4, 4, 2, 4, 0, 3, 2, 2, 4,\n",
              "       0, 3, 0, 1, 4, 2, 1, 1, 3, 1, 2, 2, 0, 3, 3, 0, 3, 4, 2, 0, 1, 1,\n",
              "       1, 2, 0, 2, 3, 1, 0, 0, 2, 0, 3, 2, 0, 0, 1, 4, 2, 2, 3, 3, 4, 0,\n",
              "       1, 0, 0, 3, 3, 2, 4, 2, 2, 4, 2, 4, 0, 0, 1, 4, 3, 3, 3, 3, 1, 1,\n",
              "       2, 0], dtype=int32)"
            ]
          },
          "metadata": {},
          "execution_count": 75
        }
      ]
    },
    {
      "cell_type": "code",
      "source": [
        "centroides = model_kmeans.cluster_centers_\n",
        "centroides"
      ],
      "metadata": {
        "colab": {
          "base_uri": "https://localhost:8080/"
        },
        "id": "NYhdcoXvF5q0",
        "outputId": "2da47095-ca5e-4dc8-8c25-a0ae4beb7d3a"
      },
      "execution_count": 76,
      "outputs": [
        {
          "output_type": "execute_result",
          "data": {
            "text/plain": [
              "array([[-1.5489702 ,  8.00822173],\n",
              "       [ 9.14794457, -2.61667701],\n",
              "       [-1.61910687,  2.7281839 ],\n",
              "       [ 2.04809825,  1.38768696],\n",
              "       [ 0.83004062,  4.4315902 ]])"
            ]
          },
          "metadata": {},
          "execution_count": 76
        }
      ]
    },
    {
      "cell_type": "code",
      "source": [
        "grafico1 = px.scatter(x = X_random[:,0], y = X_random[:,1], color = rotulos)\n",
        "grafico2 = px.scatter(x = centroides[:,0], y = centroides[:,1], size = [5, 5, 5, 5, 5])\n",
        "grafico3 = go.Figure(data = grafico1.data + grafico2.data)\n",
        "grafico3.show()"
      ],
      "metadata": {
        "colab": {
          "base_uri": "https://localhost:8080/",
          "height": 542
        },
        "id": "6SriOSnsGCq_",
        "outputId": "d9a9c134-d6e1-4fbc-ba02-7320ea1aa3a5"
      },
      "execution_count": 77,
      "outputs": [
        {
          "output_type": "display_data",
          "data": {
            "text/html": [
              "<html>\n",
              "<head><meta charset=\"utf-8\" /></head>\n",
              "<body>\n",
              "    <div>            <script src=\"https://cdnjs.cloudflare.com/ajax/libs/mathjax/2.7.5/MathJax.js?config=TeX-AMS-MML_SVG\"></script><script type=\"text/javascript\">if (window.MathJax && window.MathJax.Hub && window.MathJax.Hub.Config) {window.MathJax.Hub.Config({SVG: {font: \"STIX-Web\"}});}</script>                <script type=\"text/javascript\">window.PlotlyConfig = {MathJaxConfig: 'local'};</script>\n",
              "        <script charset=\"utf-8\" src=\"https://cdn.plot.ly/plotly-2.24.1.min.js\"></script>                <div id=\"4d7df04e-ebb4-451e-a306-652389c788a8\" class=\"plotly-graph-div\" style=\"height:525px; width:100%;\"></div>            <script type=\"text/javascript\">                                    window.PLOTLYENV=window.PLOTLYENV || {};                                    if (document.getElementById(\"4d7df04e-ebb4-451e-a306-652389c788a8\")) {                    Plotly.newPlot(                        \"4d7df04e-ebb4-451e-a306-652389c788a8\",                        [{\"hovertemplate\":\"x=%{x}\\u003cbr\\u003ey=%{y}\\u003cbr\\u003ecolor=%{marker.color}\\u003cextra\\u003e\\u003c\\u002fextra\\u003e\",\"legendgroup\":\"\",\"marker\":{\"color\":[3,0,4,0,3,4,2,4,4,3,3,3,1,2,4,3,2,0,0,3,0,2,4,0,1,3,0,4,1,0,3,2,2,4,2,4,1,0,3,4,2,4,4,3,1,1,1,3,3,0,4,3,0,3,1,1,2,0,1,3,1,1,2,4,2,1,2,3,3,1,1,3,1,4,0,1,4,2,2,3,0,4,3,3,0,0,4,4,1,1,0,1,0,0,4,4,3,2,1,4,4,2,1,3,3,1,1,0,4,2,3,4,1,0,2,3,2,2,2,2,1,4,1,4,4,2,4,0,3,2,2,4,0,3,0,1,4,2,1,1,3,1,2,2,0,3,3,0,3,4,2,0,1,1,1,2,0,2,3,1,0,0,2,0,3,2,0,0,1,4,2,2,3,3,4,0,1,0,0,3,3,2,4,2,2,4,2,4,0,0,1,4,3,3,3,3,1,1,2,0],\"coloraxis\":\"coloraxis\",\"symbol\":\"circle\"},\"mode\":\"markers\",\"name\":\"\",\"orientation\":\"v\",\"showlegend\":false,\"x\":[1.3606996617015126,-3.2789402425276446,0.5889432611385428,-0.9737394170222107,2.4316930525885074,0.6283579292203425,-2.1643410387741344,-0.6539282684195495,0.7324049374689467,1.9568149970074455,2.1156707630897955,3.181903443539385,7.017690980618397,-2.3402682724261084,0.303809630770544,0.82983200260271,-3.06770102766653,-1.36641981987472,-1.1063026114253707,2.4116339186072797,-2.375081583502894,-2.4713502691401557,2.4703491517041014,-1.6331355839274257,8.58924431228337,3.922826481859448,-1.384205475424471,1.0556609229377916,9.082601716439187,-1.9403056225305413,2.1821796141364977,-2.170522416054796,-0.07228288652059756,0.34194798486553146,-1.3703974752565298,2.1550496497061458,10.637787058123058,-1.9738531532097345,1.6201139697112406,1.1312175042434114,-1.2469794141786672,1.4201333112919208,0.46546494097762203,1.9870259161082466,9.311885761860774,9.257573098418032,9.851776707749465,3.978209547913263,2.221941016805407,-0.7243647509119446,0.10547292936461328,1.7872641504814974,-0.9619120858538707,3.938418218489132,9.971712359127922,8.287744472336437,-2.631287352650356,-1.559141946444622,10.341764609336595,0.7847825229471443,8.6746012730976,8.832332577727994,-1.8808979244753894,0.46661789679484156,-2.56114685500637,9.322750191670677,0.163123796502041,2.631858338047819,1.557235070740573,10.921390142228146,10.020443544225218,0.5640099287272724,9.840545487873255,-0.09448254296404746,-0.7300001120785176,9.916569675083515,0.6363319360587845,-1.9904999878679996,-0.8867724871243133,1.1940418363781755,-1.290427226036729,-0.84920942910602,2.263542499509738,1.2853514469875615,-2.554782626481467,-2.5825142461489037,0.08080351735281943,1.2893377801973964,7.504716759343555,8.620961610085567,-1.8445698131966584,9.00552167312662,-0.5567170236759637,-1.967860163297943,0.06897171416325287,1.7373078036934886,0.7393601109213568,-2.124220082187268,8.509111286114143,1.0220285958479411,-0.6376277690114565,-0.7405760511129292,7.575149390588332,3.002519489206626,1.1424452959887192,8.793599396012638,7.4301856598639375,-1.952956050602384,-0.18887976223686143,-0.6700734013192142,2.6693468917789582,0.6647175464191224,6.614082972023846,-2.831194172081232,-1.5439244270833459,1.0550521740433132,-0.9016725621947179,0.0884843309163823,-1.1006452824438044,-2.0697654892386232,8.919823461263388,1.153696220800248,10.046508187423186,-0.37457244843878534,1.7053606407240318,-1.551230137620841,0.9480878502078401,-2.437115032530179,3.2460247025341027,-2.950964922204437,-1.566186831449401,1.0427873009296629,-0.5584376102113618,1.310512699384438,-1.9006643571331703,10.739833925594764,2.509049292904953,-1.8359169822690276,9.553696915336882,8.908561665628902,2.3535056956389337,10.087775032508453,-1.9824365167392486,-2.683086445043818,-1.6477048040090254,4.4384122962968195,1.3809348607755019,0.7076565335045439,0.9077988690217755,1.1203136497073731,-0.6060451894410864,-1.3587964319786228,8.585417598991905,7.517364626582867,9.066351533856615,-1.5767197372875836,-3.184535580592657,-2.3303136773957465,1.441932518276955,10.205103584134891,-0.5818726927142359,-1.3819573344145895,-2.819760922945354,-2.405611033937004,2.451274234094523,-0.755113462008238,-1.8763433343877292,-2.293509140893105,10.039918391665672,1.3786117197240442,-0.42724441733479224,-1.896085851164349,-0.03241946873053658,2.7275622784453133,2.4645222723420948,-1.1505308070312947,9.088201539011244,-1.405922790909966,-1.3098821768417976,1.6520905744596983,1.6416485406731307,-0.6167251051293134,1.8407062774060008,-2.4828490137146826,-1.0036273526901516,2.2065607592742156,-2.2664670096132187,-0.27652528150343114,-0.7271908982933917,-0.5544826220560177,8.981417847272724,0.882144116318718,3.0046883283586387,1.4194214430539969,3.2432973137851797,2.0657675421536985,10.131179134312923,10.114886474094224,-1.659784590808861,-0.7545139973969618],\"xaxis\":\"x\",\"y\":[0.7480291196102661,9.899952877000914,4.001484576873055,6.944544932646066,-0.20173713064625765,4.46013629655237,2.520610447004325,4.7665695829741646,2.8756251096724803,0.23418537357582947,3.0689615070947376,-0.1822678484254865,-3.353676467120049,1.4514579335306088,3.9442341659078486,1.7420266363394838,2.9811442555334544,7.155281811644744,7.516131598496499,1.6042368281298849,7.104782262776769,2.507832568130574,4.098629063682589,7.929811604958668,-0.6716188272945733,1.8037083182133222,8.972351378244289,6.775444192920046,-2.7260191375178957,9.371837069887391,1.2996530233826384,0.6944791091086961,2.883769390269415,3.941046161461252,3.1500632975333986,4.123862491636039,-3.020618808034383,6.4520960602465385,2.7469273884172787,4.681949847050563,2.819731871690165,4.637461654822657,3.123155143325978,2.6110063815873037,-3.987884725806399,-2.1702414551862224,-1.9815151664912714,2.378178451372361,1.5326950968300432,7.923882102686256,3.7249376626839745,1.700120055734332,8.444303850117045,-0.4500954012045095,-2.327398734398176,-3.803004630948032,2.970047340594097,7.932860181910377,-2.784555427335833,1.8670603680959479,-3.44706660944484,-2.6115251186689545,1.542930967915104,3.8657130258372034,3.5994767796147498,-1.837332847203489,2.577504725116713,0.6893649043599419,2.8271957137549224,-2.1669418679971115,-3.5201145786881813,1.3370553612024738,-2.5538447239996,5.358239054379527,6.25456272268018,-3.901793032117898,4.254410210769515,3.399363735106585,1.3009262170222884,2.8077286130369705,7.548572823251686,5.0628672592149435,1.8743026964216496,1.4369128512297542,9.493590695259781,6.488742509844039,4.690689825307652,3.449691588146665,-1.9756878307406764,-2.8523589357855563,7.782892719372048,-3.4591809549544523,8.5302091592976,7.022467027087517,4.355732723244529,4.425462343941218,0.43607905512322787,2.679960531597116,-3.7689610972860237,4.116603477422556,4.091047047234421,2.45146316459718,-1.943889148089382,0.7426535668471026,2.01467994803379,-1.710811325140933,-2.809143627524932,8.778720740611089,5.2046138144025775,2.266856668032976,1.8198703315044638,4.359952669678135,-1.7248500991250646,8.445839394748798,3.2970339968882048,-0.6471074368396748,1.3158246057263752,2.322990859224463,3.594790296363368,3.3339323075945484,-3.947643812135478,3.902006391240128,-3.515050263677763,3.997500853369944,4.4327702382058005,2.179851352127434,4.7321191979788075,7.328643661342906,2.8494216528496255,2.4245623779709287,1.7497887635919254,4.606259225188172,9.137306245206592,0.07122512127892244,7.444506640453993,-1.4786176840232135,5.7731460973486755,1.241878455003146,-3.324293234414026,-2.1744657682120816,2.2240495566249674,-2.2722440343028154,2.9353614203581797,3.699080363043116,8.205515903489113,1.8421431469283507,0.9294942182122881,8.22555333832952,0.4598436151935028,5.758060834411365,3.236609914276144,8.855632727357394,-3.545247026578566,-1.8802351616785307,-1.450990711403663,4.957405922888751,8.024238612435422,2.228332483582922,2.7675436411711662,-1.9912046396831835,7.3747402282530405,8.913203821617858,3.184933130682306,7.523167764515901,-0.19539784879256894,3.741386415296854,7.354432897180806,9.046605305324295,-1.9748768060121566,3.618977236508077,3.5731459920557205,2.6785030837571964,0.8478972363195902,1.3051254961790473,6.199676503478973,8.418413695394888,-3.138818111100801,10.092183512939803,7.728154739350419,2.1201087303203643,0.15020884849717908,3.235100476524425,3.561622307041948,2.571900485633736,2.7463359301108747,5.506167176232801,4.460896856739859,5.0812776832803,7.259672045828528,7.675886577495327,-3.092661835296069,2.8412848455872295,0.9852149013231277,1.5740969548844366,1.2146062718627864,2.6835341538437723,-1.190067756826872,-2.5806282036453942,2.6200913819313945,7.719356076607228],\"yaxis\":\"y\",\"type\":\"scatter\"},{\"hovertemplate\":\"x=%{x}\\u003cbr\\u003ey=%{y}\\u003cbr\\u003esize=%{marker.size}\\u003cextra\\u003e\\u003c\\u002fextra\\u003e\",\"legendgroup\":\"\",\"marker\":{\"color\":\"#636efa\",\"size\":[5,5,5,5,5],\"sizemode\":\"area\",\"sizeref\":0.0125,\"symbol\":\"circle\"},\"mode\":\"markers\",\"name\":\"\",\"orientation\":\"v\",\"showlegend\":false,\"x\":[-1.5489702009764568,9.147944565825924,-1.6191068685040897,2.048098250886995,0.8300406195493739],\"xaxis\":\"x\",\"y\":[8.008221726048498,-2.616677005647266,2.728183896844233,1.3876869644064735,4.431590199447741],\"yaxis\":\"y\",\"type\":\"scatter\"}],                        {\"template\":{\"data\":{\"histogram2dcontour\":[{\"type\":\"histogram2dcontour\",\"colorbar\":{\"outlinewidth\":0,\"ticks\":\"\"},\"colorscale\":[[0.0,\"#0d0887\"],[0.1111111111111111,\"#46039f\"],[0.2222222222222222,\"#7201a8\"],[0.3333333333333333,\"#9c179e\"],[0.4444444444444444,\"#bd3786\"],[0.5555555555555556,\"#d8576b\"],[0.6666666666666666,\"#ed7953\"],[0.7777777777777778,\"#fb9f3a\"],[0.8888888888888888,\"#fdca26\"],[1.0,\"#f0f921\"]]}],\"choropleth\":[{\"type\":\"choropleth\",\"colorbar\":{\"outlinewidth\":0,\"ticks\":\"\"}}],\"histogram2d\":[{\"type\":\"histogram2d\",\"colorbar\":{\"outlinewidth\":0,\"ticks\":\"\"},\"colorscale\":[[0.0,\"#0d0887\"],[0.1111111111111111,\"#46039f\"],[0.2222222222222222,\"#7201a8\"],[0.3333333333333333,\"#9c179e\"],[0.4444444444444444,\"#bd3786\"],[0.5555555555555556,\"#d8576b\"],[0.6666666666666666,\"#ed7953\"],[0.7777777777777778,\"#fb9f3a\"],[0.8888888888888888,\"#fdca26\"],[1.0,\"#f0f921\"]]}],\"heatmap\":[{\"type\":\"heatmap\",\"colorbar\":{\"outlinewidth\":0,\"ticks\":\"\"},\"colorscale\":[[0.0,\"#0d0887\"],[0.1111111111111111,\"#46039f\"],[0.2222222222222222,\"#7201a8\"],[0.3333333333333333,\"#9c179e\"],[0.4444444444444444,\"#bd3786\"],[0.5555555555555556,\"#d8576b\"],[0.6666666666666666,\"#ed7953\"],[0.7777777777777778,\"#fb9f3a\"],[0.8888888888888888,\"#fdca26\"],[1.0,\"#f0f921\"]]}],\"heatmapgl\":[{\"type\":\"heatmapgl\",\"colorbar\":{\"outlinewidth\":0,\"ticks\":\"\"},\"colorscale\":[[0.0,\"#0d0887\"],[0.1111111111111111,\"#46039f\"],[0.2222222222222222,\"#7201a8\"],[0.3333333333333333,\"#9c179e\"],[0.4444444444444444,\"#bd3786\"],[0.5555555555555556,\"#d8576b\"],[0.6666666666666666,\"#ed7953\"],[0.7777777777777778,\"#fb9f3a\"],[0.8888888888888888,\"#fdca26\"],[1.0,\"#f0f921\"]]}],\"contourcarpet\":[{\"type\":\"contourcarpet\",\"colorbar\":{\"outlinewidth\":0,\"ticks\":\"\"}}],\"contour\":[{\"type\":\"contour\",\"colorbar\":{\"outlinewidth\":0,\"ticks\":\"\"},\"colorscale\":[[0.0,\"#0d0887\"],[0.1111111111111111,\"#46039f\"],[0.2222222222222222,\"#7201a8\"],[0.3333333333333333,\"#9c179e\"],[0.4444444444444444,\"#bd3786\"],[0.5555555555555556,\"#d8576b\"],[0.6666666666666666,\"#ed7953\"],[0.7777777777777778,\"#fb9f3a\"],[0.8888888888888888,\"#fdca26\"],[1.0,\"#f0f921\"]]}],\"surface\":[{\"type\":\"surface\",\"colorbar\":{\"outlinewidth\":0,\"ticks\":\"\"},\"colorscale\":[[0.0,\"#0d0887\"],[0.1111111111111111,\"#46039f\"],[0.2222222222222222,\"#7201a8\"],[0.3333333333333333,\"#9c179e\"],[0.4444444444444444,\"#bd3786\"],[0.5555555555555556,\"#d8576b\"],[0.6666666666666666,\"#ed7953\"],[0.7777777777777778,\"#fb9f3a\"],[0.8888888888888888,\"#fdca26\"],[1.0,\"#f0f921\"]]}],\"mesh3d\":[{\"type\":\"mesh3d\",\"colorbar\":{\"outlinewidth\":0,\"ticks\":\"\"}}],\"scatter\":[{\"fillpattern\":{\"fillmode\":\"overlay\",\"size\":10,\"solidity\":0.2},\"type\":\"scatter\"}],\"parcoords\":[{\"type\":\"parcoords\",\"line\":{\"colorbar\":{\"outlinewidth\":0,\"ticks\":\"\"}}}],\"scatterpolargl\":[{\"type\":\"scatterpolargl\",\"marker\":{\"colorbar\":{\"outlinewidth\":0,\"ticks\":\"\"}}}],\"bar\":[{\"error_x\":{\"color\":\"#2a3f5f\"},\"error_y\":{\"color\":\"#2a3f5f\"},\"marker\":{\"line\":{\"color\":\"#E5ECF6\",\"width\":0.5},\"pattern\":{\"fillmode\":\"overlay\",\"size\":10,\"solidity\":0.2}},\"type\":\"bar\"}],\"scattergeo\":[{\"type\":\"scattergeo\",\"marker\":{\"colorbar\":{\"outlinewidth\":0,\"ticks\":\"\"}}}],\"scatterpolar\":[{\"type\":\"scatterpolar\",\"marker\":{\"colorbar\":{\"outlinewidth\":0,\"ticks\":\"\"}}}],\"histogram\":[{\"marker\":{\"pattern\":{\"fillmode\":\"overlay\",\"size\":10,\"solidity\":0.2}},\"type\":\"histogram\"}],\"scattergl\":[{\"type\":\"scattergl\",\"marker\":{\"colorbar\":{\"outlinewidth\":0,\"ticks\":\"\"}}}],\"scatter3d\":[{\"type\":\"scatter3d\",\"line\":{\"colorbar\":{\"outlinewidth\":0,\"ticks\":\"\"}},\"marker\":{\"colorbar\":{\"outlinewidth\":0,\"ticks\":\"\"}}}],\"scattermapbox\":[{\"type\":\"scattermapbox\",\"marker\":{\"colorbar\":{\"outlinewidth\":0,\"ticks\":\"\"}}}],\"scatterternary\":[{\"type\":\"scatterternary\",\"marker\":{\"colorbar\":{\"outlinewidth\":0,\"ticks\":\"\"}}}],\"scattercarpet\":[{\"type\":\"scattercarpet\",\"marker\":{\"colorbar\":{\"outlinewidth\":0,\"ticks\":\"\"}}}],\"carpet\":[{\"aaxis\":{\"endlinecolor\":\"#2a3f5f\",\"gridcolor\":\"white\",\"linecolor\":\"white\",\"minorgridcolor\":\"white\",\"startlinecolor\":\"#2a3f5f\"},\"baxis\":{\"endlinecolor\":\"#2a3f5f\",\"gridcolor\":\"white\",\"linecolor\":\"white\",\"minorgridcolor\":\"white\",\"startlinecolor\":\"#2a3f5f\"},\"type\":\"carpet\"}],\"table\":[{\"cells\":{\"fill\":{\"color\":\"#EBF0F8\"},\"line\":{\"color\":\"white\"}},\"header\":{\"fill\":{\"color\":\"#C8D4E3\"},\"line\":{\"color\":\"white\"}},\"type\":\"table\"}],\"barpolar\":[{\"marker\":{\"line\":{\"color\":\"#E5ECF6\",\"width\":0.5},\"pattern\":{\"fillmode\":\"overlay\",\"size\":10,\"solidity\":0.2}},\"type\":\"barpolar\"}],\"pie\":[{\"automargin\":true,\"type\":\"pie\"}]},\"layout\":{\"autotypenumbers\":\"strict\",\"colorway\":[\"#636efa\",\"#EF553B\",\"#00cc96\",\"#ab63fa\",\"#FFA15A\",\"#19d3f3\",\"#FF6692\",\"#B6E880\",\"#FF97FF\",\"#FECB52\"],\"font\":{\"color\":\"#2a3f5f\"},\"hovermode\":\"closest\",\"hoverlabel\":{\"align\":\"left\"},\"paper_bgcolor\":\"white\",\"plot_bgcolor\":\"#E5ECF6\",\"polar\":{\"bgcolor\":\"#E5ECF6\",\"angularaxis\":{\"gridcolor\":\"white\",\"linecolor\":\"white\",\"ticks\":\"\"},\"radialaxis\":{\"gridcolor\":\"white\",\"linecolor\":\"white\",\"ticks\":\"\"}},\"ternary\":{\"bgcolor\":\"#E5ECF6\",\"aaxis\":{\"gridcolor\":\"white\",\"linecolor\":\"white\",\"ticks\":\"\"},\"baxis\":{\"gridcolor\":\"white\",\"linecolor\":\"white\",\"ticks\":\"\"},\"caxis\":{\"gridcolor\":\"white\",\"linecolor\":\"white\",\"ticks\":\"\"}},\"coloraxis\":{\"colorbar\":{\"outlinewidth\":0,\"ticks\":\"\"}},\"colorscale\":{\"sequential\":[[0.0,\"#0d0887\"],[0.1111111111111111,\"#46039f\"],[0.2222222222222222,\"#7201a8\"],[0.3333333333333333,\"#9c179e\"],[0.4444444444444444,\"#bd3786\"],[0.5555555555555556,\"#d8576b\"],[0.6666666666666666,\"#ed7953\"],[0.7777777777777778,\"#fb9f3a\"],[0.8888888888888888,\"#fdca26\"],[1.0,\"#f0f921\"]],\"sequentialminus\":[[0.0,\"#0d0887\"],[0.1111111111111111,\"#46039f\"],[0.2222222222222222,\"#7201a8\"],[0.3333333333333333,\"#9c179e\"],[0.4444444444444444,\"#bd3786\"],[0.5555555555555556,\"#d8576b\"],[0.6666666666666666,\"#ed7953\"],[0.7777777777777778,\"#fb9f3a\"],[0.8888888888888888,\"#fdca26\"],[1.0,\"#f0f921\"]],\"diverging\":[[0,\"#8e0152\"],[0.1,\"#c51b7d\"],[0.2,\"#de77ae\"],[0.3,\"#f1b6da\"],[0.4,\"#fde0ef\"],[0.5,\"#f7f7f7\"],[0.6,\"#e6f5d0\"],[0.7,\"#b8e186\"],[0.8,\"#7fbc41\"],[0.9,\"#4d9221\"],[1,\"#276419\"]]},\"xaxis\":{\"gridcolor\":\"white\",\"linecolor\":\"white\",\"ticks\":\"\",\"title\":{\"standoff\":15},\"zerolinecolor\":\"white\",\"automargin\":true,\"zerolinewidth\":2},\"yaxis\":{\"gridcolor\":\"white\",\"linecolor\":\"white\",\"ticks\":\"\",\"title\":{\"standoff\":15},\"zerolinecolor\":\"white\",\"automargin\":true,\"zerolinewidth\":2},\"scene\":{\"xaxis\":{\"backgroundcolor\":\"#E5ECF6\",\"gridcolor\":\"white\",\"linecolor\":\"white\",\"showbackground\":true,\"ticks\":\"\",\"zerolinecolor\":\"white\",\"gridwidth\":2},\"yaxis\":{\"backgroundcolor\":\"#E5ECF6\",\"gridcolor\":\"white\",\"linecolor\":\"white\",\"showbackground\":true,\"ticks\":\"\",\"zerolinecolor\":\"white\",\"gridwidth\":2},\"zaxis\":{\"backgroundcolor\":\"#E5ECF6\",\"gridcolor\":\"white\",\"linecolor\":\"white\",\"showbackground\":true,\"ticks\":\"\",\"zerolinecolor\":\"white\",\"gridwidth\":2}},\"shapedefaults\":{\"line\":{\"color\":\"#2a3f5f\"}},\"annotationdefaults\":{\"arrowcolor\":\"#2a3f5f\",\"arrowhead\":0,\"arrowwidth\":1},\"geo\":{\"bgcolor\":\"white\",\"landcolor\":\"#E5ECF6\",\"subunitcolor\":\"white\",\"showland\":true,\"showlakes\":true,\"lakecolor\":\"white\"},\"title\":{\"x\":0.05},\"mapbox\":{\"style\":\"light\"}}}},                        {\"responsive\": true}                    ).then(function(){\n",
              "                            \n",
              "var gd = document.getElementById('4d7df04e-ebb4-451e-a306-652389c788a8');\n",
              "var x = new MutationObserver(function (mutations, observer) {{\n",
              "        var display = window.getComputedStyle(gd).display;\n",
              "        if (!display || display === 'none') {{\n",
              "            console.log([gd, 'removed!']);\n",
              "            Plotly.purge(gd);\n",
              "            observer.disconnect();\n",
              "        }}\n",
              "}});\n",
              "\n",
              "// Listen for the removal of the full notebook cells\n",
              "var notebookContainer = gd.closest('#notebook-container');\n",
              "if (notebookContainer) {{\n",
              "    x.observe(notebookContainer, {childList: true});\n",
              "}}\n",
              "\n",
              "// Listen for the clearing of the current output cell\n",
              "var outputEl = gd.closest('.output');\n",
              "if (outputEl) {{\n",
              "    x.observe(outputEl, {childList: true});\n",
              "}}\n",
              "\n",
              "                        })                };                            </script>        </div>\n",
              "</body>\n",
              "</html>"
            ]
          },
          "metadata": {}
        }
      ]
    },
    {
      "cell_type": "code",
      "source": [],
      "metadata": {
        "id": "488tJISiGvOp"
      },
      "execution_count": 77,
      "outputs": []
    }
  ]
}